{
 "cells": [
  {
   "attachments": {},
   "cell_type": "markdown",
   "metadata": {},
   "source": [
    "<h1 align=\"center\">Classificação de Texto Multilíngue com Transformers</h1>"
   ]
  },
  {
   "attachments": {},
   "cell_type": "markdown",
   "metadata": {},
   "source": [
    "Data Scientist.:Eddy Giusepe Chirinos Isidro"
   ]
  },
  {
   "attachments": {},
   "cell_type": "markdown",
   "metadata": {},
   "source": [
    "Este script é baseado no maravilhoso artigo do [Ng Wai Foong](https://levelup.gitconnected.com/multilingual-text-classification-with-transformers-2147fe179c6b)."
   ]
  },
  {
   "attachments": {},
   "cell_type": "markdown",
   "metadata": {},
   "source": [
    "Nesse artigo, do **Ng Wai Foong**, ele fala que usar o [spaCy](https://spacy.io/) é muito bom devido a que o spaCy aborda muitas tarefas do dia dia. <font color=\"red\">Por exemplo:</font> classificar palavrões ou propagandas, etc. Mas, também, ele diz que a arquitetura existente para `spaCy` têm os seguintes problemas:\n",
    "\n",
    "* Ter que treinar um novo modelo de forma independente para cada idioma\n",
    "\n",
    "* Ter que configurar e instalar tokenizadores especializados para determinados idiomas (chinês, japonês, coreano, russo, vietnamita, etc.)\n",
    "\n",
    "\n",
    "Para contornar esses problemas, ele ensina a como treinar um único modelo de **Classificação de Texto Multilíngue** usando `Transformers`:\n",
    "\n",
    "\n",
    "* `Fine-tune` ao Transformers do `HuggingFace` pré-treinado para `Classificação de texto`\n",
    "\n",
    "* Baseado na arquitetura `DistilmBERT` (também há suporte para arquitetura `mBERT` normal)\n",
    "\n",
    "* Exportar o modelo `Fine-tuned` para `ONNX` para inferência\n",
    "\n"
   ]
  },
  {
   "attachments": {},
   "cell_type": "markdown",
   "metadata": {},
   "source": [
    "# Configurações (setup)"
   ]
  },
  {
   "attachments": {},
   "cell_type": "markdown",
   "metadata": {},
   "source": [
    "É altamente recomendável criar um novo ambiente virtual antes da instalação. Ative o ambiente virtual instale a biblioteca `Transformers` da seguinte forma:"
   ]
  },
  {
   "cell_type": "code",
   "execution_count": null,
   "metadata": {},
   "outputs": [],
   "source": [
    "%pip install transformers"
   ]
  },
  {
   "cell_type": "code",
   "execution_count": 2,
   "metadata": {},
   "outputs": [
    {
     "name": "stdout",
     "output_type": "stream",
     "text": [
      "4.26.1\n"
     ]
    }
   ],
   "source": [
    "import transformers\n",
    "\n",
    "print(transformers.__version__)"
   ]
  },
  {
   "attachments": {},
   "cell_type": "markdown",
   "metadata": {},
   "source": [
    "Observe que este tutorial é baseado na versão `4.26.1` do Transformers, por favor, consulte o arquivo de [requirement](https://github.com/huggingface/transformers/blob/main/examples/pytorch/text-classification/requirements.txt) atualizado se você estiver usando uma versão mais recente.\n",
    "\n",
    "Execute o seguinte comando para instalar todos os pacotes necessários:\n",
    "\n",
    "```\n",
    "pip install -r requirements.txt\n",
    "```"
   ]
  },
  {
   "cell_type": "code",
   "execution_count": null,
   "metadata": {},
   "outputs": [],
   "source": [
    "# Aqui estou lembrando como instalar bibliotecas na \"LINHA DE COMANDO\" no Jupyter VSC:\n",
    "\n",
    "%cd /home/eddygiusepe/1_Eddy_Giusepe/NLP_Transformers/Multilingual_Text_Classification_with_Transformers\n",
    "\n",
    "%pip install -r requirements.txt"
   ]
  },
  {
   "attachments": {},
   "cell_type": "markdown",
   "metadata": {},
   "source": [
    "Vá para o [repositório a seguir](https://github.com/huggingface/transformers/tree/main/examples/pytorch/text-classification) e salve o arquivo `run_glue.py` no diretório de trabalho. É o script de treinamento oficial para o `Fine-tuning` de um modelo `Transformers.\n",
    "\n",
    "\n",
    "```\n",
    "run_glue.py é a versão padrão do Pytorch para fine-tuning em uma única máquina. Existe outro script de treinamento chamado run_glue_no_trainer.py, destinado ao treinamento distribuído em várias máquinas usando a biblioteca accelerate.\n",
    "```"
   ]
  },
  {
   "attachments": {},
   "cell_type": "markdown",
   "metadata": {},
   "source": [
    "Abra o script de treinamento e comente a função `check_min_version` (isso é necessário para evitar exceções, pois este tutorial é baseado na antiga versão estável do Transformers PyPI):"
   ]
  },
  {
   "attachments": {
    "image.png": {
     "image/png": "[encoded data removed]"
    }
   },
   "cell_type": "markdown",
   "metadata": {},
   "source": [
    "![image.png](attachment:image.png)"
   ]
  },
  {
   "attachments": {},
   "cell_type": "markdown",
   "metadata": {},
   "source": [
    "# Dataset"
   ]
  },
  {
   "attachments": {},
   "cell_type": "markdown",
   "metadata": {},
   "source": [
    "O script de treinamento aceita `CSV` ou `JSON` como arquivos de `Treinamento/Validação`. Cada arquivo deve ter os seguintes cabeçalhos ou pares chave-valor:\n",
    "\n",
    "* `sentence` — o texto de exemplo\n",
    "\n",
    "* `label` — um número para representar as classes. Por exemplo, `0` para negativo e `1` para positivo.\n"
   ]
  },
  {
   "attachments": {},
   "cell_type": "markdown",
   "metadata": {},
   "source": [
    "Para aqueles que não possuem seus próprios dados de treinamento, você pode usar os conjuntos de dados [Stanford Sentiment Treebank](https://huggingface.co/datasets/sst2) (`análise de sentimento`) do `HuggingFace`.\n",
    "\n",
    "Coloque os conjuntos de dados de treinamento (`train.csv`) e validação (`dev.csv`) no mesmo diretório de trabalho do arquvo `run_glue.py`. O script de treinamento atual aceita apenas um único arquivo de treinamento e um único arquivo de validação."
   ]
  },
  {
   "attachments": {},
   "cell_type": "markdown",
   "metadata": {},
   "source": [
    "## Visualizando os Dados com Pandas"
   ]
  },
  {
   "cell_type": "code",
   "execution_count": 9,
   "metadata": {},
   "outputs": [
    {
     "data": {
      "text/html": [
       "<div>\n",
       "<style scoped>\n",
       "    .dataframe tbody tr th:only-of-type {\n",
       "        vertical-align: middle;\n",
       "    }\n",
       "\n",
       "    .dataframe tbody tr th {\n",
       "        vertical-align: top;\n",
       "    }\n",
       "\n",
       "    .dataframe thead th {\n",
       "        text-align: right;\n",
       "    }\n",
       "</style>\n",
       "<table border=\"1\" class=\"dataframe\">\n",
       "  <thead>\n",
       "    <tr style=\"text-align: right;\">\n",
       "      <th></th>\n",
       "      <th>sentence</th>\n",
       "      <th>label</th>\n",
       "    </tr>\n",
       "  </thead>\n",
       "  <tbody>\n",
       "    <tr>\n",
       "      <th>0</th>\n",
       "      <td>hide new secretions from the parental units</td>\n",
       "      <td>0</td>\n",
       "    </tr>\n",
       "    <tr>\n",
       "      <th>1</th>\n",
       "      <td>contains no wit , only labored gags</td>\n",
       "      <td>0</td>\n",
       "    </tr>\n",
       "    <tr>\n",
       "      <th>2</th>\n",
       "      <td>that loves its characters and communicates som...</td>\n",
       "      <td>1</td>\n",
       "    </tr>\n",
       "    <tr>\n",
       "      <th>3</th>\n",
       "      <td>remains utterly satisfied to remain the same t...</td>\n",
       "      <td>0</td>\n",
       "    </tr>\n",
       "    <tr>\n",
       "      <th>4</th>\n",
       "      <td>on the worst revenge-of-the-nerds clichés the ...</td>\n",
       "      <td>0</td>\n",
       "    </tr>\n",
       "  </tbody>\n",
       "</table>\n",
       "</div>"
      ],
      "text/plain": [
       "                                            sentence  label\n",
       "0       hide new secretions from the parental units       0\n",
       "1               contains no wit , only labored gags       0\n",
       "2  that loves its characters and communicates som...      1\n",
       "3  remains utterly satisfied to remain the same t...      0\n",
       "4  on the worst revenge-of-the-nerds clichés the ...      0"
      ]
     },
     "execution_count": 9,
     "metadata": {},
     "output_type": "execute_result"
    }
   ],
   "source": [
    "# Ver --> https://huggingface.co/datasets/sst2/viewer/default/train\n",
    "\n",
    "import pandas as pd\n",
    "\n",
    "sst2_train =pd.read_csv('/home/eddygiusepe/1_Eddy_Giusepe/NLP_Transformers/Multilingual_Text_Classification_with_Transformers/train.tsv', sep='\\t') \n",
    "\n",
    "sst2_train.head()"
   ]
  },
  {
   "cell_type": "code",
   "execution_count": 10,
   "metadata": {},
   "outputs": [
    {
     "data": {
      "text/plain": [
       "(67349, 2)"
      ]
     },
     "execution_count": 10,
     "metadata": {},
     "output_type": "execute_result"
    }
   ],
   "source": [
    "sst2_train.shape"
   ]
  },
  {
   "cell_type": "code",
   "execution_count": 11,
   "metadata": {},
   "outputs": [
    {
     "data": {
      "text/html": [
       "<div>\n",
       "<style scoped>\n",
       "    .dataframe tbody tr th:only-of-type {\n",
       "        vertical-align: middle;\n",
       "    }\n",
       "\n",
       "    .dataframe tbody tr th {\n",
       "        vertical-align: top;\n",
       "    }\n",
       "\n",
       "    .dataframe thead th {\n",
       "        text-align: right;\n",
       "    }\n",
       "</style>\n",
       "<table border=\"1\" class=\"dataframe\">\n",
       "  <thead>\n",
       "    <tr style=\"text-align: right;\">\n",
       "      <th></th>\n",
       "      <th>sentence</th>\n",
       "      <th>label</th>\n",
       "    </tr>\n",
       "  </thead>\n",
       "  <tbody>\n",
       "    <tr>\n",
       "      <th>0</th>\n",
       "      <td>it 's a charming and often affecting journey .</td>\n",
       "      <td>1</td>\n",
       "    </tr>\n",
       "    <tr>\n",
       "      <th>1</th>\n",
       "      <td>unflinchingly bleak and desperate</td>\n",
       "      <td>0</td>\n",
       "    </tr>\n",
       "    <tr>\n",
       "      <th>2</th>\n",
       "      <td>allows us to hope that nolan is poised to emba...</td>\n",
       "      <td>1</td>\n",
       "    </tr>\n",
       "    <tr>\n",
       "      <th>3</th>\n",
       "      <td>the acting , costumes , music , cinematography...</td>\n",
       "      <td>1</td>\n",
       "    </tr>\n",
       "    <tr>\n",
       "      <th>4</th>\n",
       "      <td>it 's slow -- very , very slow .</td>\n",
       "      <td>0</td>\n",
       "    </tr>\n",
       "  </tbody>\n",
       "</table>\n",
       "</div>"
      ],
      "text/plain": [
       "                                            sentence  label\n",
       "0    it 's a charming and often affecting journey .       1\n",
       "1                 unflinchingly bleak and desperate       0\n",
       "2  allows us to hope that nolan is poised to emba...      1\n",
       "3  the acting , costumes , music , cinematography...      1\n",
       "4                  it 's slow -- very , very slow .       0"
      ]
     },
     "execution_count": 11,
     "metadata": {},
     "output_type": "execute_result"
    }
   ],
   "source": [
    "sst2_dev =pd.read_csv('/home/eddygiusepe/1_Eddy_Giusepe/NLP_Transformers/Multilingual_Text_Classification_with_Transformers/dev.tsv', sep='\\t') \n",
    "\n",
    "sst2_dev.head()"
   ]
  },
  {
   "cell_type": "code",
   "execution_count": 12,
   "metadata": {},
   "outputs": [
    {
     "data": {
      "text/plain": [
       "(872, 2)"
      ]
     },
     "execution_count": 12,
     "metadata": {},
     "output_type": "execute_result"
    }
   ],
   "source": [
    "sst2_dev.shape"
   ]
  },
  {
   "cell_type": "code",
   "execution_count": null,
   "metadata": {},
   "outputs": [],
   "source": []
  }
 ],
 "metadata": {
  "kernelspec": {
   "display_name": "venv_transformers",
   "language": "python",
   "name": "python3"
  },
  "language_info": {
   "codemirror_mode": {
    "name": "ipython",
    "version": 3
   },
   "file_extension": ".py",
   "mimetype": "text/x-python",
   "name": "python",
   "nbconvert_exporter": "python",
   "pygments_lexer": "ipython3",
   "version": "3.10.6"
  },
  "orig_nbformat": 4,
  "vscode": {
   "interpreter": {
    "hash": "d423ef4205839b3e71f80e760729dfeaabac1e93a593ad42b89eaf709d591b56"
   }
  }
 },
 "nbformat": 4,
 "nbformat_minor": 2
}
