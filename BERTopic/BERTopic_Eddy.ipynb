{
 "cells": [
  {
   "attachments": {},
   "cell_type": "markdown",
   "metadata": {},
   "source": [
    "<h1 align=\"center\">BERTopic</h1>"
   ]
  },
  {
   "attachments": {},
   "cell_type": "markdown",
   "metadata": {},
   "source": [
    "Data Scientist.: Dr.Eddy Giusepe Chirinos Isidro"
   ]
  },
  {
   "attachments": {},
   "cell_type": "markdown",
   "metadata": {},
   "source": [
    "[BERTopic](https://maartengr.github.io/BERTopic/index.html) é uma técnica de modelagem de tópicos que utiliza Transformers 🤗 e `c-TF-IDF` para criar clusters densos, permitindo tópicos facilmente interpretáveis, mantendo palavras importantes nas descrições dos tópicos.\n",
    "\n",
    "BERTopic suporta modelagem de tópicos guiada , supervisionada , semi-supervisionada , manual , de documento longo , hierárquica , baseada em classe , dinâmica e online . Ele ainda suporta visualizações semelhantes ao LDAvis!"
   ]
  },
  {
   "attachments": {},
   "cell_type": "markdown",
   "metadata": {},
   "source": [
    "# Instalação"
   ]
  },
  {
   "attachments": {},
   "cell_type": "markdown",
   "metadata": {},
   "source": [
    "A instalação, com `sentence-transformers`, pode ser feita usando [pypi](https://pypi.org/project/bertopic/):\n",
    "\n",
    "```\n",
    "pip install bertopic\n",
    "```\n",
    "\n",
    "Você pode querer instalar mais dependendo dos Transformers e back-ends de idioma que você usará. As instalações possíveis são:\n",
    "\n",
    "```\n",
    "pip install bertopic[flair]\n",
    "pip install bertopic[gensim]\n",
    "pip install bertopic[spacy]\n",
    "pip install bertopic[use]\n",
    "```"
   ]
  },
  {
   "attachments": {},
   "cell_type": "markdown",
   "metadata": {},
   "source": [
    "# Exemplo de uso"
   ]
  },
  {
   "attachments": {},
   "cell_type": "markdown",
   "metadata": {},
   "source": [
    "Começamos extraindo tópicos do conhecido conjunto de dados de $20$ grupos de notícias contendo documentos em `inglês`:"
   ]
  },
  {
   "cell_type": "code",
   "execution_count": 1,
   "metadata": {},
   "outputs": [],
   "source": [
    "from bertopic import BERTopic\n",
    "from sklearn.datasets import fetch_20newsgroups\n",
    "\n",
    "docs = fetch_20newsgroups(subset='all',  remove=('headers', 'footers', 'quotes'))['data']\n",
    "\n"
   ]
  },
  {
   "cell_type": "code",
   "execution_count": 2,
   "metadata": {},
   "outputs": [
    {
     "data": {
      "text/html": [
       "<div>\n",
       "<style scoped>\n",
       "    .dataframe tbody tr th:only-of-type {\n",
       "        vertical-align: middle;\n",
       "    }\n",
       "\n",
       "    .dataframe tbody tr th {\n",
       "        vertical-align: top;\n",
       "    }\n",
       "\n",
       "    .dataframe thead th {\n",
       "        text-align: right;\n",
       "    }\n",
       "</style>\n",
       "<table border=\"1\" class=\"dataframe\">\n",
       "  <thead>\n",
       "    <tr style=\"text-align: right;\">\n",
       "      <th></th>\n",
       "      <th>0</th>\n",
       "    </tr>\n",
       "  </thead>\n",
       "  <tbody>\n",
       "    <tr>\n",
       "      <th>0</th>\n",
       "      <td>\\n\\nI am sure some bashers of Pens fans are pr...</td>\n",
       "    </tr>\n",
       "    <tr>\n",
       "      <th>1</th>\n",
       "      <td>My brother is in the market for a high-perform...</td>\n",
       "    </tr>\n",
       "    <tr>\n",
       "      <th>2</th>\n",
       "      <td>\\n\\n\\n\\n\\tFinally you said what you dream abou...</td>\n",
       "    </tr>\n",
       "    <tr>\n",
       "      <th>3</th>\n",
       "      <td>\\nThink!\\n\\nIt's the SCSI card doing the DMA t...</td>\n",
       "    </tr>\n",
       "    <tr>\n",
       "      <th>4</th>\n",
       "      <td>1)    I have an old Jasmine drive which I cann...</td>\n",
       "    </tr>\n",
       "    <tr>\n",
       "      <th>5</th>\n",
       "      <td>\\n\\nBack in high school I worked as a lab assi...</td>\n",
       "    </tr>\n",
       "    <tr>\n",
       "      <th>6</th>\n",
       "      <td>\\n\\nAE is in Dallas...try 214/241-6060 or 214/...</td>\n",
       "    </tr>\n",
       "    <tr>\n",
       "      <th>7</th>\n",
       "      <td>\\n[stuff deleted]\\n\\nOk, here's the solution t...</td>\n",
       "    </tr>\n",
       "  </tbody>\n",
       "</table>\n",
       "</div>"
      ],
      "text/plain": [
       "                                                   0\n",
       "0  \\n\\nI am sure some bashers of Pens fans are pr...\n",
       "1  My brother is in the market for a high-perform...\n",
       "2  \\n\\n\\n\\n\\tFinally you said what you dream abou...\n",
       "3  \\nThink!\\n\\nIt's the SCSI card doing the DMA t...\n",
       "4  1)    I have an old Jasmine drive which I cann...\n",
       "5  \\n\\nBack in high school I worked as a lab assi...\n",
       "6  \\n\\nAE is in Dallas...try 214/241-6060 or 214/...\n",
       "7  \\n[stuff deleted]\\n\\nOk, here's the solution t..."
      ]
     },
     "execution_count": 2,
     "metadata": {},
     "output_type": "execute_result"
    }
   ],
   "source": [
    "import pandas as pd\n",
    "\n",
    "docs_df = pd.DataFrame(docs)\n",
    "docs_df.head(8)"
   ]
  },
  {
   "cell_type": "code",
   "execution_count": 3,
   "metadata": {},
   "outputs": [
    {
     "data": {
      "text/plain": [
       "(18846, 1)"
      ]
     },
     "execution_count": 3,
     "metadata": {},
     "output_type": "execute_result"
    }
   ],
   "source": [
    "docs_df.shape"
   ]
  },
  {
   "cell_type": "code",
   "execution_count": 4,
   "metadata": {},
   "outputs": [
    {
     "data": {
      "text/plain": [
       "\"\\n\\nI am sure some bashers of Pens fans are pretty confused about the lack\\nof any kind of posts about the recent Pens massacre of the Devils. Actually,\\nI am  bit puzzled too and a bit relieved. However, I am going to put an end\\nto non-PIttsburghers' relief with a bit of praise for the Pens. Man, they\\nare killing those Devils worse than I thought. Jagr just showed you why\\nhe is much better than his regular season stats. He is also a lot\\nfo fun to watch in the playoffs. Bowman should let JAgr have a lot of\\nfun in the next couple of games since the Pens are going to beat the pulp out of Jersey anyway. I was very disappointed not to see the Islanders lose the final\\nregular season game.          PENS RULE!!!\\n\\n\""
      ]
     },
     "execution_count": 4,
     "metadata": {},
     "output_type": "execute_result"
    }
   ],
   "source": [
    "docs_df[0][0]"
   ]
  },
  {
   "cell_type": "code",
   "execution_count": 5,
   "metadata": {},
   "outputs": [
    {
     "name": "stdout",
     "output_type": "stream",
     "text": [
      "huggingface/tokenizers: The current process just got forked, after parallelism has already been used. Disabling parallelism to avoid deadlocks...\n",
      "To disable this warning, you can either:\n",
      "\t- Avoid using `tokenizers` before the fork if possible\n",
      "\t- Explicitly set the environment variable TOKENIZERS_PARALLELISM=(true | false)\n",
      "huggingface/tokenizers: The current process just got forked, after parallelism has already been used. Disabling parallelism to avoid deadlocks...\n",
      "To disable this warning, you can either:\n",
      "\t- Avoid using `tokenizers` before the fork if possible\n",
      "\t- Explicitly set the environment variable TOKENIZERS_PARALLELISM=(true | false)\n",
      "huggingface/tokenizers: The current process just got forked, after parallelism has already been used. Disabling parallelism to avoid deadlocks...\n",
      "To disable this warning, you can either:\n",
      "\t- Avoid using `tokenizers` before the fork if possible\n",
      "\t- Explicitly set the environment variable TOKENIZERS_PARALLELISM=(true | false)\n",
      "huggingface/tokenizers: The current process just got forked, after parallelism has already been used. Disabling parallelism to avoid deadlocks...\n",
      "To disable this warning, you can either:\n",
      "\t- Avoid using `tokenizers` before the fork if possible\n",
      "\t- Explicitly set the environment variable TOKENIZERS_PARALLELISM=(true | false)\n",
      "huggingface/tokenizers: The current process just got forked, after parallelism has already been used. Disabling parallelism to avoid deadlocks...\n",
      "To disable this warning, you can either:\n",
      "\t- Avoid using `tokenizers` before the fork if possible\n",
      "\t- Explicitly set the environment variable TOKENIZERS_PARALLELISM=(true | false)\n"
     ]
    }
   ],
   "source": [
    "# Instanciamos nosso Objeto:\n",
    "\n",
    "topic_model = BERTopic()\n",
    "topics, probs = topic_model.fit_transform(docs)"
   ]
  },
  {
   "attachments": {},
   "cell_type": "markdown",
   "metadata": {},
   "source": [
    "Após gerar os `tópicos` e suas `probabilidades`, podemos acessar os tópicos frequentes que foram gerados:"
   ]
  },
  {
   "cell_type": "code",
   "execution_count": 6,
   "metadata": {},
   "outputs": [
    {
     "data": {
      "text/html": [
       "<div>\n",
       "<style scoped>\n",
       "    .dataframe tbody tr th:only-of-type {\n",
       "        vertical-align: middle;\n",
       "    }\n",
       "\n",
       "    .dataframe tbody tr th {\n",
       "        vertical-align: top;\n",
       "    }\n",
       "\n",
       "    .dataframe thead th {\n",
       "        text-align: right;\n",
       "    }\n",
       "</style>\n",
       "<table border=\"1\" class=\"dataframe\">\n",
       "  <thead>\n",
       "    <tr style=\"text-align: right;\">\n",
       "      <th></th>\n",
       "      <th>Topic</th>\n",
       "      <th>Count</th>\n",
       "      <th>Name</th>\n",
       "    </tr>\n",
       "  </thead>\n",
       "  <tbody>\n",
       "    <tr>\n",
       "      <th>0</th>\n",
       "      <td>-1</td>\n",
       "      <td>6724</td>\n",
       "      <td>-1_to_the_and_you</td>\n",
       "    </tr>\n",
       "    <tr>\n",
       "      <th>1</th>\n",
       "      <td>0</td>\n",
       "      <td>1829</td>\n",
       "      <td>0_game_team_games_he</td>\n",
       "    </tr>\n",
       "    <tr>\n",
       "      <th>2</th>\n",
       "      <td>1</td>\n",
       "      <td>625</td>\n",
       "      <td>1_key_clipper_chip_encryption</td>\n",
       "    </tr>\n",
       "    <tr>\n",
       "      <th>3</th>\n",
       "      <td>2</td>\n",
       "      <td>529</td>\n",
       "      <td>2_ites_cheek_yep_huh</td>\n",
       "    </tr>\n",
       "    <tr>\n",
       "      <th>4</th>\n",
       "      <td>3</td>\n",
       "      <td>472</td>\n",
       "      <td>3_israel_israeli_jews_arab</td>\n",
       "    </tr>\n",
       "    <tr>\n",
       "      <th>...</th>\n",
       "      <td>...</td>\n",
       "      <td>...</td>\n",
       "      <td>...</td>\n",
       "    </tr>\n",
       "    <tr>\n",
       "      <th>213</th>\n",
       "      <td>212</td>\n",
       "      <td>10</td>\n",
       "      <td>212_610_c610_iivx_centris</td>\n",
       "    </tr>\n",
       "    <tr>\n",
       "      <th>214</th>\n",
       "      <td>213</td>\n",
       "      <td>10</td>\n",
       "      <td>213_alarm_sensor_alarms_shock</td>\n",
       "    </tr>\n",
       "    <tr>\n",
       "      <th>215</th>\n",
       "      <td>214</td>\n",
       "      <td>10</td>\n",
       "      <td>214_toaster_subscription_64100_waldbronn</td>\n",
       "    </tr>\n",
       "    <tr>\n",
       "      <th>216</th>\n",
       "      <td>215</td>\n",
       "      <td>10</td>\n",
       "      <td>215_ear_wax_ears_syringe</td>\n",
       "    </tr>\n",
       "    <tr>\n",
       "      <th>217</th>\n",
       "      <td>216</td>\n",
       "      <td>10</td>\n",
       "      <td>216_rimsat_sternberg_satellites_tonga</td>\n",
       "    </tr>\n",
       "  </tbody>\n",
       "</table>\n",
       "<p>218 rows × 3 columns</p>\n",
       "</div>"
      ],
      "text/plain": [
       "     Topic  Count                                      Name\n",
       "0       -1   6724                         -1_to_the_and_you\n",
       "1        0   1829                      0_game_team_games_he\n",
       "2        1    625             1_key_clipper_chip_encryption\n",
       "3        2    529                      2_ites_cheek_yep_huh\n",
       "4        3    472                3_israel_israeli_jews_arab\n",
       "..     ...    ...                                       ...\n",
       "213    212     10                 212_610_c610_iivx_centris\n",
       "214    213     10             213_alarm_sensor_alarms_shock\n",
       "215    214     10  214_toaster_subscription_64100_waldbronn\n",
       "216    215     10                  215_ear_wax_ears_syringe\n",
       "217    216     10     216_rimsat_sternberg_satellites_tonga\n",
       "\n",
       "[218 rows x 3 columns]"
      ]
     },
     "execution_count": 6,
     "metadata": {},
     "output_type": "execute_result"
    }
   ],
   "source": [
    "topic_model.get_topic_info()"
   ]
  },
  {
   "attachments": {},
   "cell_type": "markdown",
   "metadata": {},
   "source": [
    "`-1` refere-se a todos os `outliers` e normalmente deve ser ignorado. A seguir, vamos dar uma olhada no tópico mais frequente que foi gerado, o `tópico 0`:"
   ]
  },
  {
   "cell_type": "code",
   "execution_count": 7,
   "metadata": {},
   "outputs": [
    {
     "data": {
      "text/plain": [
       "[('game', 0.010420849927010513),\n",
       " ('team', 0.009084133415555735),\n",
       " ('games', 0.0072366588027095976),\n",
       " ('he', 0.007092513979082413),\n",
       " ('players', 0.0063579410064466884),\n",
       " ('season', 0.006263689360047739),\n",
       " ('hockey', 0.006163835731532167),\n",
       " ('play', 0.0058086108452179925),\n",
       " ('25', 0.005684756602957054),\n",
       " ('year', 0.0056402276201116324)]"
      ]
     },
     "execution_count": 7,
     "metadata": {},
     "output_type": "execute_result"
    }
   ],
   "source": [
    "topic_model.get_topic(0)"
   ]
  },
  {
   "attachments": {},
   "cell_type": "markdown",
   "metadata": {},
   "source": [
    "Com `.get_document_info`, também podemos extrair informações em nível de documento, como seus tópicos correspondentes, probabilidades, se são documentos representativos de um tópico etc.:"
   ]
  },
  {
   "cell_type": "code",
   "execution_count": 8,
   "metadata": {},
   "outputs": [
    {
     "data": {
      "text/html": [
       "<div>\n",
       "<style scoped>\n",
       "    .dataframe tbody tr th:only-of-type {\n",
       "        vertical-align: middle;\n",
       "    }\n",
       "\n",
       "    .dataframe tbody tr th {\n",
       "        vertical-align: top;\n",
       "    }\n",
       "\n",
       "    .dataframe thead th {\n",
       "        text-align: right;\n",
       "    }\n",
       "</style>\n",
       "<table border=\"1\" class=\"dataframe\">\n",
       "  <thead>\n",
       "    <tr style=\"text-align: right;\">\n",
       "      <th></th>\n",
       "      <th>Document</th>\n",
       "      <th>Topic</th>\n",
       "      <th>Name</th>\n",
       "      <th>Top_n_words</th>\n",
       "      <th>Probability</th>\n",
       "      <th>Representative_document</th>\n",
       "    </tr>\n",
       "  </thead>\n",
       "  <tbody>\n",
       "    <tr>\n",
       "      <th>0</th>\n",
       "      <td>\\n\\nI am sure some bashers of Pens fans are pr...</td>\n",
       "      <td>0</td>\n",
       "      <td>0_game_team_games_he</td>\n",
       "      <td>game - team - games - he - players - season - ...</td>\n",
       "      <td>1.000000</td>\n",
       "      <td>False</td>\n",
       "    </tr>\n",
       "    <tr>\n",
       "      <th>1</th>\n",
       "      <td>My brother is in the market for a high-perform...</td>\n",
       "      <td>11</td>\n",
       "      <td>11_card_drivers_diamond_ati</td>\n",
       "      <td>card - drivers - diamond - ati - driver - vide...</td>\n",
       "      <td>0.877945</td>\n",
       "      <td>False</td>\n",
       "    </tr>\n",
       "    <tr>\n",
       "      <th>2</th>\n",
       "      <td>\\n\\n\\n\\n\\tFinally you said what you dream abou...</td>\n",
       "      <td>-1</td>\n",
       "      <td>-1_to_is_the_and</td>\n",
       "      <td>to - is - the - and - of - for - you - it - in...</td>\n",
       "      <td>0.000000</td>\n",
       "      <td>False</td>\n",
       "    </tr>\n",
       "    <tr>\n",
       "      <th>3</th>\n",
       "      <td>\\nThink!\\n\\nIt's the SCSI card doing the DMA t...</td>\n",
       "      <td>49</td>\n",
       "      <td>49_scsi_scsi2_scsi1_ide</td>\n",
       "      <td>scsi - scsi2 - scsi1 - ide - asynchronous - dr...</td>\n",
       "      <td>0.608730</td>\n",
       "      <td>False</td>\n",
       "    </tr>\n",
       "    <tr>\n",
       "      <th>4</th>\n",
       "      <td>1)    I have an old Jasmine drive which I cann...</td>\n",
       "      <td>75</td>\n",
       "      <td>75_tape_backup_tapes_drive</td>\n",
       "      <td>tape - backup - tapes - drive - munroe - wangd...</td>\n",
       "      <td>0.761425</td>\n",
       "      <td>False</td>\n",
       "    </tr>\n",
       "    <tr>\n",
       "      <th>...</th>\n",
       "      <td>...</td>\n",
       "      <td>...</td>\n",
       "      <td>...</td>\n",
       "      <td>...</td>\n",
       "      <td>...</td>\n",
       "      <td>...</td>\n",
       "    </tr>\n",
       "    <tr>\n",
       "      <th>18841</th>\n",
       "      <td>DN&gt; From: nyeda@cnsvax.uwec.edu (David Nye)\\nD...</td>\n",
       "      <td>35</td>\n",
       "      <td>35_cancer_medical_patients_medicine</td>\n",
       "      <td>cancer - medical - patients - medicine - disea...</td>\n",
       "      <td>0.824217</td>\n",
       "      <td>False</td>\n",
       "    </tr>\n",
       "    <tr>\n",
       "      <th>18842</th>\n",
       "      <td>\\nNot in isolated ground recepticles (usually ...</td>\n",
       "      <td>181</td>\n",
       "      <td>181_ground_grounding_conductor_neutral</td>\n",
       "      <td>ground - grounding - conductor - neutral - wir...</td>\n",
       "      <td>0.604598</td>\n",
       "      <td>False</td>\n",
       "    </tr>\n",
       "    <tr>\n",
       "      <th>18843</th>\n",
       "      <td>I just installed a DX2-66 CPU in a clone mothe...</td>\n",
       "      <td>82</td>\n",
       "      <td>82_fan_cpu_heat_sink</td>\n",
       "      <td>fan - cpu - heat - sink - fans - cooling - chi...</td>\n",
       "      <td>1.000000</td>\n",
       "      <td>False</td>\n",
       "    </tr>\n",
       "    <tr>\n",
       "      <th>18844</th>\n",
       "      <td>\\nWouldn't this require a hyper-sphere.  In 3-...</td>\n",
       "      <td>128</td>\n",
       "      <td>128_den_sphere_radius_points</td>\n",
       "      <td>den - sphere - radius - points - plane - ellip...</td>\n",
       "      <td>1.000000</td>\n",
       "      <td>False</td>\n",
       "    </tr>\n",
       "    <tr>\n",
       "      <th>18845</th>\n",
       "      <td>After a tip from Gary Crum (crum@fcom.cc.utah....</td>\n",
       "      <td>8</td>\n",
       "      <td>8_car_cars_engine_ford</td>\n",
       "      <td>car - cars - engine - ford - mustang - sho - v...</td>\n",
       "      <td>0.802416</td>\n",
       "      <td>False</td>\n",
       "    </tr>\n",
       "  </tbody>\n",
       "</table>\n",
       "<p>18846 rows × 6 columns</p>\n",
       "</div>"
      ],
      "text/plain": [
       "                                                Document  Topic  \\\n",
       "0      \\n\\nI am sure some bashers of Pens fans are pr...      0   \n",
       "1      My brother is in the market for a high-perform...     11   \n",
       "2      \\n\\n\\n\\n\\tFinally you said what you dream abou...     -1   \n",
       "3      \\nThink!\\n\\nIt's the SCSI card doing the DMA t...     49   \n",
       "4      1)    I have an old Jasmine drive which I cann...     75   \n",
       "...                                                  ...    ...   \n",
       "18841  DN> From: nyeda@cnsvax.uwec.edu (David Nye)\\nD...     35   \n",
       "18842  \\nNot in isolated ground recepticles (usually ...    181   \n",
       "18843  I just installed a DX2-66 CPU in a clone mothe...     82   \n",
       "18844  \\nWouldn't this require a hyper-sphere.  In 3-...    128   \n",
       "18845  After a tip from Gary Crum (crum@fcom.cc.utah....      8   \n",
       "\n",
       "                                         Name  \\\n",
       "0                        0_game_team_games_he   \n",
       "1                 11_card_drivers_diamond_ati   \n",
       "2                            -1_to_is_the_and   \n",
       "3                     49_scsi_scsi2_scsi1_ide   \n",
       "4                  75_tape_backup_tapes_drive   \n",
       "...                                       ...   \n",
       "18841     35_cancer_medical_patients_medicine   \n",
       "18842  181_ground_grounding_conductor_neutral   \n",
       "18843                    82_fan_cpu_heat_sink   \n",
       "18844            128_den_sphere_radius_points   \n",
       "18845                  8_car_cars_engine_ford   \n",
       "\n",
       "                                             Top_n_words  Probability  \\\n",
       "0      game - team - games - he - players - season - ...     1.000000   \n",
       "1      card - drivers - diamond - ati - driver - vide...     0.877945   \n",
       "2      to - is - the - and - of - for - you - it - in...     0.000000   \n",
       "3      scsi - scsi2 - scsi1 - ide - asynchronous - dr...     0.608730   \n",
       "4      tape - backup - tapes - drive - munroe - wangd...     0.761425   \n",
       "...                                                  ...          ...   \n",
       "18841  cancer - medical - patients - medicine - disea...     0.824217   \n",
       "18842  ground - grounding - conductor - neutral - wir...     0.604598   \n",
       "18843  fan - cpu - heat - sink - fans - cooling - chi...     1.000000   \n",
       "18844  den - sphere - radius - points - plane - ellip...     1.000000   \n",
       "18845  car - cars - engine - ford - mustang - sho - v...     0.802416   \n",
       "\n",
       "       Representative_document  \n",
       "0                        False  \n",
       "1                        False  \n",
       "2                        False  \n",
       "3                        False  \n",
       "4                        False  \n",
       "...                        ...  \n",
       "18841                    False  \n",
       "18842                    False  \n",
       "18843                    False  \n",
       "18844                    False  \n",
       "18845                    False  \n",
       "\n",
       "[18846 rows x 6 columns]"
      ]
     },
     "execution_count": 8,
     "metadata": {},
     "output_type": "execute_result"
    }
   ],
   "source": [
    "topic_model.get_document_info(docs)\n"
   ]
  },
  {
   "cell_type": "code",
   "execution_count": null,
   "metadata": {},
   "outputs": [],
   "source": [
    "# Precisei instalar --> https://stackoverflow.com/questions/63533424/mime-type-rendering-requires-nbformat-4-2-0\n",
    "topic_model.visualize_topics()"
   ]
  },
  {
   "cell_type": "code",
   "execution_count": null,
   "metadata": {},
   "outputs": [],
   "source": [
    "topic_model.visualize_documents(docs)"
   ]
  }
 ],
 "metadata": {
  "kernelspec": {
   "display_name": "venv_transformers",
   "language": "python",
   "name": "python3"
  },
  "language_info": {
   "codemirror_mode": {
    "name": "ipython",
    "version": 3
   },
   "file_extension": ".py",
   "mimetype": "text/x-python",
   "name": "python",
   "nbconvert_exporter": "python",
   "pygments_lexer": "ipython3",
   "version": "3.10.6"
  },
  "orig_nbformat": 4,
  "vscode": {
   "interpreter": {
    "hash": "d423ef4205839b3e71f80e760729dfeaabac1e93a593ad42b89eaf709d591b56"
   }
  }
 },
 "nbformat": 4,
 "nbformat_minor": 2
}
