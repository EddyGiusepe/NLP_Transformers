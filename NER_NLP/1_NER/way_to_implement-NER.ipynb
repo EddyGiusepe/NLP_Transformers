{
 "cells": [
  {
   "attachments": {},
   "cell_type": "markdown",
   "metadata": {},
   "source": [
    "<h1 align=\"center\">The Best Way to Implement NER</h1>"
   ]
  },
  {
   "attachments": {},
   "cell_type": "markdown",
   "metadata": {},
   "source": [
    "Data scientist.: Dr.Eddy Giusepe Chirinos Isidro"
   ]
  },
  {
   "cell_type": "code",
   "execution_count": 16,
   "metadata": {},
   "outputs": [
    {
     "name": "stdout",
     "output_type": "stream",
     "text": [
      "[['PERSON', 'Jane Kleeb'], ['ORG', 'Bold Nebraska'], ['ORG', 'TC Energy']]\n"
     ]
    }
   ],
   "source": [
    "# named entity recognition with a web api\n",
    "import requests\n",
    "import json\n",
    "from config import apikey\n",
    " \n",
    "text = \"Jane Kleeb, founder of progressive grassroots group Bold Nebraska, said the spill offers just the latest evidence that 'tronger laws' are needed \\\n",
    "    to stop companies like TC Energy from transporting dangerous chemicals and crude oil across the country, often putting tribal areas, waterways,\\\n",
    "         and wildlife habitats at risk.\"\n",
    "headers = {\n",
    "    \"Content-Type\": \"application/json\",\n",
    "    \"apikey\": apikey\n",
    "}\n",
    "body = {\n",
    "    \"text\": text\n",
    "}\n",
    "url = \"https://app.thetextapi.com/text/ner\"\n",
    " \n",
    "response = requests.post(url, headers=headers, json=body)\n",
    "ner = json.loads(response.text)[\"ner\"]\n",
    "print(ner)\n"
   ]
  },
  {
   "cell_type": "code",
   "execution_count": null,
   "metadata": {},
   "outputs": [],
   "source": []
  },
  {
   "cell_type": "code",
   "execution_count": null,
   "metadata": {},
   "outputs": [],
   "source": []
  }
 ],
 "metadata": {
  "kernelspec": {
   "display_name": "venv_transformers",
   "language": "python",
   "name": "python3"
  },
  "language_info": {
   "codemirror_mode": {
    "name": "ipython",
    "version": 3
   },
   "file_extension": ".py",
   "mimetype": "text/x-python",
   "name": "python",
   "nbconvert_exporter": "python",
   "pygments_lexer": "ipython3",
   "version": "3.8.10"
  },
  "orig_nbformat": 4,
  "vscode": {
   "interpreter": {
    "hash": "744cf54c6e08528d59b17d69482cd9cfecb0ea2489e1abb457edfe7bddc9bd30"
   }
  }
 },
 "nbformat": 4,
 "nbformat_minor": 2
}
