{
 "cells": [
  {
   "attachments": {},
   "cell_type": "markdown",
   "metadata": {},
   "source": [
    "<h1 align=\"center\">NER com spaCy em Inglês  e Português</h1>"
   ]
  },
  {
   "attachments": {},
   "cell_type": "markdown",
   "metadata": {},
   "source": [
    "Data Scientist.: Dr.Eddy Giusepe Chirinos Isidro"
   ]
  },
  {
   "attachments": {},
   "cell_type": "markdown",
   "metadata": {},
   "source": [
    "Neste script aprenderemos os seguintes pontos:\n",
    "\n",
    "* Extração de informações (`Information Extraction`)\n",
    "\n",
    "* Detecte e classifique as `Entidades Nomeadas` em Dados não-estruturados\n"
   ]
  },
  {
   "attachments": {},
   "cell_type": "markdown",
   "metadata": {},
   "source": [
    "# Usando spaCy - NER em Inglês"
   ]
  },
  {
   "attachments": {},
   "cell_type": "markdown",
   "metadata": {},
   "source": [
    "## Carregamos o modelo e fazemos algumas análises"
   ]
  },
  {
   "cell_type": "code",
   "execution_count": 1,
   "metadata": {},
   "outputs": [
    {
     "name": "stderr",
     "output_type": "stream",
     "text": [
      "/home/eddygiusepe/Imagens/Eddy_codigos/NLP_Transformers/venv_transformers/lib/python3.8/site-packages/tqdm/auto.py:22: TqdmWarning: IProgress not found. Please update jupyter and ipywidgets. See https://ipywidgets.readthedocs.io/en/stable/user_install.html\n",
      "  from .autonotebook import tqdm as notebook_tqdm\n"
     ]
    }
   ],
   "source": [
    "# Carregamos o spaCy\n",
    "import spacy"
   ]
  },
  {
   "cell_type": "code",
   "execution_count": 2,
   "metadata": {},
   "outputs": [],
   "source": [
    "# Carregamos nosso modelo pré-treinado\n",
    "# Carregamos o tokenizer em inglês, tagger, parser and NER\n",
    "#nlp = spacy.load(\"en_core_web_sm\")\n",
    "nlp = spacy.load(\"en_core_web_lg\")"
   ]
  },
  {
   "cell_type": "code",
   "execution_count": 3,
   "metadata": {},
   "outputs": [
    {
     "data": {
      "text/plain": [
       "'when sebastian thrun started working on self-driving cars at google in 2007, few people outside of the company took him seriously. “i can tell you very senior ceos of major american car companies would shake my hand and turn away because i wasn’t worth talking to,” said thrun, in an interview with recode earlier this week.'"
      ]
     },
     "execution_count": 3,
     "metadata": {},
     "output_type": "execute_result"
    }
   ],
   "source": [
    "#text = (\"When Sebastian Thrun started working on self-driving cars at \"\n",
    "#        \"Google in 2007, few people outside of the company took him \"\n",
    "#        \"seriously. “I can tell you very senior CEOs of major American \"\n",
    "#        \"car companies would shake my hand and turn away because I wasn’t \"\n",
    "#        \"worth talking to,” said Thrun, in an interview with Recode earlier \"\n",
    "#        \"this week.\")\n",
    "\n",
    "#text = text.lower()\n",
    "\n",
    "#text"
   ]
  },
  {
   "cell_type": "code",
   "execution_count": 3,
   "metadata": {},
   "outputs": [],
   "source": [
    "# Vamos processar um documento COMPLETO, por exemplo:\n",
    "text = (\"When Sebastian Thrun started working on self-driving cars at \"\n",
    "        \"Google in 2007, few people outside of the company took him \"\n",
    "        \"seriously. “I can tell you very senior CEOs of major American \"\n",
    "        \"car companies would shake my hand and turn away because I wasn’t \"\n",
    "        \"worth talking to,” said Thrun, in an interview with Recode earlier \"\n",
    "        \"this week.\")\n",
    "\n",
    "doc = nlp(text)"
   ]
  },
  {
   "cell_type": "code",
   "execution_count": 4,
   "metadata": {},
   "outputs": [
    {
     "name": "stdout",
     "output_type": "stream",
     "text": [
      "Noun phrases (frases substantivas): ['Sebastian Thrun', 'self-driving cars', 'Google', 'few people', 'the company', 'him', 'I', 'you', 'very senior CEOs', 'major American car companies', 'my hand', 'I', 'Thrun', 'an interview', 'Recode']\n"
     ]
    }
   ],
   "source": [
    "# Analisamos a sintaxe\n",
    "print(\"Noun phrases (frases substantivas):\", [chunk.text for chunk in doc.noun_chunks])\n",
    "   "
   ]
  },
  {
   "cell_type": "code",
   "execution_count": 5,
   "metadata": {},
   "outputs": [
    {
     "name": "stdout",
     "output_type": "stream",
     "text": [
      "Verbs (Verbos): ['start', 'work', 'drive', 'take', 'tell', 'shake', 'turn', 'talk', 'say']\n"
     ]
    }
   ],
   "source": [
    "# Analisamos a sintaxe\n",
    "print(\"Verbs (Verbos):\", [token.lemma_ for token in doc if token.pos_ == \"VERB\"])"
   ]
  },
  {
   "cell_type": "code",
   "execution_count": 6,
   "metadata": {},
   "outputs": [
    {
     "name": "stdout",
     "output_type": "stream",
     "text": [
      "Sebastian Thrun PERSON\n",
      "Google ORG\n",
      "2007 DATE\n",
      "American NORP\n",
      "Thrun ORG\n",
      "Recode ORG\n",
      "earlier this week DATE\n"
     ]
    }
   ],
   "source": [
    "# Encontre entidades, frases e conceitos nomeados\n",
    "for entity in doc.ents:\n",
    "    print(entity.text, entity.label_)\n",
    "    "
   ]
  },
  {
   "cell_type": "code",
   "execution_count": 7,
   "metadata": {},
   "outputs": [
    {
     "name": "stdout",
     "output_type": "stream",
     "text": [
      "Sebastian Thrun PERSON\n",
      "Google ORG\n",
      "2007 DATE\n"
     ]
    }
   ],
   "source": [
    "# Analisamos uma frase ou um documento pequeno\n",
    "text = \"When Sebastian Thrun started working on self-driving cars at Google in 2007, few people outside of the company took him seriously.\"\n",
    "doc = nlp(text)\n",
    "\n",
    "\n",
    "# Encontre entidades, frases e conceitos nomeados\n",
    "for entity in doc.ents:\n",
    "    print(entity.text, entity.label_)\n",
    "     "
   ]
  },
  {
   "attachments": {},
   "cell_type": "markdown",
   "metadata": {},
   "source": [
    "## Visualizando"
   ]
  },
  {
   "cell_type": "code",
   "execution_count": 8,
   "metadata": {},
   "outputs": [],
   "source": [
    "# Carregamos displacy\n",
    "from spacy import displacy"
   ]
  },
  {
   "cell_type": "code",
   "execution_count": 9,
   "metadata": {},
   "outputs": [
    {
     "data": {
      "text/html": [
       "<span class=\"tex2jax_ignore\"><div class=\"entities\" style=\"line-height: 2.5; direction: ltr\">When \n",
       "<mark class=\"entity\" style=\"background: #aa9cfc; padding: 0.45em 0.6em; margin: 0 0.25em; line-height: 1; border-radius: 0.35em;\">\n",
       "    Sebastian Thrun\n",
       "    <span style=\"font-size: 0.8em; font-weight: bold; line-height: 1; border-radius: 0.35em; vertical-align: middle; margin-left: 0.5rem\">PERSON</span>\n",
       "</mark>\n",
       " started working on self-driving cars at \n",
       "<mark class=\"entity\" style=\"background: #7aecec; padding: 0.45em 0.6em; margin: 0 0.25em; line-height: 1; border-radius: 0.35em;\">\n",
       "    Google\n",
       "    <span style=\"font-size: 0.8em; font-weight: bold; line-height: 1; border-radius: 0.35em; vertical-align: middle; margin-left: 0.5rem\">ORG</span>\n",
       "</mark>\n",
       " in \n",
       "<mark class=\"entity\" style=\"background: #bfe1d9; padding: 0.45em 0.6em; margin: 0 0.25em; line-height: 1; border-radius: 0.35em;\">\n",
       "    2007\n",
       "    <span style=\"font-size: 0.8em; font-weight: bold; line-height: 1; border-radius: 0.35em; vertical-align: middle; margin-left: 0.5rem\">DATE</span>\n",
       "</mark>\n",
       ", few people outside of the company took him seriously.</div></span>"
      ],
      "text/plain": [
       "<IPython.core.display.HTML object>"
      ]
     },
     "metadata": {},
     "output_type": "display_data"
    }
   ],
   "source": [
    "displacy.render(doc, style=\"ent\", jupyter=True)\n"
   ]
  },
  {
   "attachments": {},
   "cell_type": "markdown",
   "metadata": {},
   "source": [
    "## Contexto de texto diferente"
   ]
  },
  {
   "cell_type": "code",
   "execution_count": 10,
   "metadata": {},
   "outputs": [],
   "source": [
    "text = \"Apples are good for health\"\n",
    "doc = nlp(text)"
   ]
  },
  {
   "cell_type": "code",
   "execution_count": 11,
   "metadata": {},
   "outputs": [
    {
     "data": {
      "text/plain": [
       "()"
      ]
     },
     "execution_count": 11,
     "metadata": {},
     "output_type": "execute_result"
    }
   ],
   "source": [
    "doc.ents"
   ]
  },
  {
   "cell_type": "code",
   "execution_count": 12,
   "metadata": {},
   "outputs": [
    {
     "name": "stderr",
     "output_type": "stream",
     "text": [
      "/home/eddygiusepe/Imagens/Eddy_codigos/NLP_Transformers/venv_transformers/lib/python3.8/site-packages/spacy/displacy/__init__.py:206: UserWarning: [W006] No entities to visualize found in Doc object. If this is surprising to you, make sure the Doc was processed using a model that supports named entity recognition, and check the `doc.ents` property manually if necessary.\n",
      "  warnings.warn(Warnings.W006)\n"
     ]
    },
    {
     "data": {
      "text/html": [
       "<span class=\"tex2jax_ignore\"><div class=\"entities\" style=\"line-height: 2.5; direction: ltr\">Apples are good for health</div></span>"
      ],
      "text/plain": [
       "<IPython.core.display.HTML object>"
      ]
     },
     "metadata": {},
     "output_type": "display_data"
    }
   ],
   "source": [
    "displacy.render(doc, style=\"ent\", jupyter=True)"
   ]
  },
  {
   "attachments": {},
   "cell_type": "markdown",
   "metadata": {},
   "source": [
    "<font color=\"red\">Nota:</font>\n",
    "\n",
    "O modelo `inglês` não é capaz de detectar frutas (`apples`), pois não foi treinado nessa categoria específica."
   ]
  },
  {
   "attachments": {},
   "cell_type": "markdown",
   "metadata": {},
   "source": [
    "## Pipeline NER para treinamento customizado"
   ]
  },
  {
   "attachments": {},
   "cell_type": "markdown",
   "metadata": {},
   "source": [
    "### Preparação dos Dados"
   ]
  },
  {
   "attachments": {},
   "cell_type": "markdown",
   "metadata": {},
   "source": [
    "Aqui vamos a usar [spaCy NER annotation tool](http://agateteam.org/spacynerannotate/)."
   ]
  },
  {
   "cell_type": "code",
   "execution_count": 13,
   "metadata": {},
   "outputs": [],
   "source": [
    "train = [\n",
    "          (\"An average-sized strawberry has about 200 seeds on its outer surface and are quite edible.\",{\"entities\":[(17,27,\"Fruit\")]}),\n",
    "          (\"The outer skin of Guava is bitter tasting and thick, dark green for raw fruits and as the fruit ripens, the bitterness subsides.\",{\"entities\":[(18,23,\"Fruit\")]}),\n",
    "          (\"Grapes are one of the most widely grown types of fruits in the world, chiefly for the making of different wines. The grape is delicious!\",{\"entities\":[(0,6,\"Fruit\"),(117,122,\"Fruit\")]}),\n",
    "          (\"Watermelon is composed of 92 percent water and significant amounts of Vitamins and antioxidants.\",{\"entities\":[(0,10,\"Fruit\")]}),\n",
    "          (\"Papaya fruits are usually cylindrical in shape and the size can go beyond 20 inches.\",{\"entities\":[(0,6,\"Fruit\")]}),\n",
    "          (\"Mango, the King of the fruits is a drupe fruit that grows in tropical regions.\",{\"entities\":[(0,5,\"Fruit\")]}),\n",
    "          (\"I like green grapes and black grapes a lot.\",{\"entities\":[(13,19,\"Fruit\"),(30,36,\"Fruit\")]}),\n",
    "          (\"Oranges are great source of vitamin C\",{\"entities\":[(0,7,\"Fruit\")]}),\n",
    "          (\"A apple a day keeps doctor away.\",{\"entities\":[(2,7,\"Fruit\")]})\n",
    "        ]\n",
    "     "
   ]
  },
  {
   "attachments": {},
   "cell_type": "markdown",
   "metadata": {},
   "source": [
    "### Convertemos nossos Dados para o formato .spacy"
   ]
  },
  {
   "cell_type": "code",
   "execution_count": 14,
   "metadata": {},
   "outputs": [
    {
     "name": "stderr",
     "output_type": "stream",
     "text": [
      "100%|██████████| 9/9 [00:00<00:00, 1681.76it/s]\n"
     ]
    }
   ],
   "source": [
    "import os\n",
    "import pandas as pd\n",
    "from tqdm import tqdm\n",
    "from spacy.tokens import DocBin\n",
    "\n",
    "\n",
    "db = DocBin() # Criamos um objeto DocBin\n",
    "\n",
    "for text, annot in tqdm(train): # data in previous format\n",
    "    doc = nlp.make_doc(text) # create doc object from text\n",
    "    ents = []\n",
    "    for start, end, label in annot[\"entities\"]: # add character indexes\n",
    "        span = doc.char_span(start, end, label=label, alignment_mode=\"contract\")\n",
    "        if span is None:\n",
    "            print(\"Skipping entity\")\n",
    "        else:\n",
    "            ents.append(span)\n",
    "    doc.ents = ents # label the text with the ents\n",
    "    db.add(doc)\n",
    "\n",
    "db.to_disk(\"/home/eddygiusepe/Imagens/Eddy_codigos/NLP_Transformers/Fine-tune_BERT_NER/output_ner_ingles/train.spacy\") # save the docbin object\n",
    "     "
   ]
  },
  {
   "attachments": {},
   "cell_type": "markdown",
   "metadata": {},
   "source": [
    "### Criamos um arquivo `config`"
   ]
  },
  {
   "attachments": {},
   "cell_type": "markdown",
   "metadata": {},
   "source": [
    "* [Fazemos click neste link](https://spacy.io/usage/training#quickstart)\n",
    "\n",
    "* Preencha o formulário e baixe o arquivo de configuração"
   ]
  },
  {
   "attachments": {
    "image.png": {
     "image/png": "[encoded data removed]"
    }
   },
   "cell_type": "markdown",
   "metadata": {},
   "source": [
    "![image.png](attachment:image.png)"
   ]
  },
  {
   "attachments": {},
   "cell_type": "markdown",
   "metadata": {},
   "source": [
    "### Preenchemos a configuração restante"
   ]
  },
  {
   "cell_type": "code",
   "execution_count": 15,
   "metadata": {},
   "outputs": [
    {
     "name": "stdout",
     "output_type": "stream",
     "text": [
      "\u001b[38;5;2m✔ Auto-filled config with all values\u001b[0m\n",
      "\u001b[38;5;2m✔ Saved config\u001b[0m\n",
      "/home/eddygiusepe/Imagens/Eddy_codigos/NLP_Transformers/Fine-tune_BERT_NER/output_ner_ingles/config.cfg\n",
      "You can now add your data and train your pipeline:\n",
      "python -m spacy train config.cfg --paths.train ./train.spacy --paths.dev ./dev.spacy\n"
     ]
    }
   ],
   "source": [
    "!python -m spacy init fill-config /home/eddygiusepe/Imagens/Eddy_codigos/NLP_Transformers/Fine-tune_BERT_NER/output_ner_ingles/base_config.cfg /home/eddygiusepe/Imagens/Eddy_codigos/NLP_Transformers/Fine-tune_BERT_NER/output_ner_ingles/config.cfg\n"
   ]
  },
  {
   "attachments": {},
   "cell_type": "markdown",
   "metadata": {},
   "source": [
    "## Treinamento"
   ]
  },
  {
   "cell_type": "code",
   "execution_count": 16,
   "metadata": {},
   "outputs": [
    {
     "name": "stdout",
     "output_type": "stream",
     "text": [
      "\u001b[38;5;4mℹ Saving to output directory:\n",
      "/home/eddygiusepe/Imagens/Eddy_codigos/NLP_Transformers/Fine-tune_BERT_NER/output_ner_ingles\u001b[0m\n",
      "\u001b[38;5;4mℹ Using CPU\u001b[0m\n",
      "\u001b[1m\n",
      "=========================== Initializing pipeline ===========================\u001b[0m\n",
      "[2022-12-21 00:30:30,951] [INFO] Set up nlp object from config\n",
      "[2022-12-21 00:30:30,960] [INFO] Pipeline: ['tok2vec', 'ner']\n",
      "[2022-12-21 00:30:30,964] [INFO] Created vocabulary\n",
      "[2022-12-21 00:30:38,645] [INFO] Added vectors: en_core_web_lg\n",
      "[2022-12-21 00:30:40,930] [INFO] Finished initializing nlp object\n",
      "[2022-12-21 00:30:42,952] [INFO] Initialized pipeline components: ['tok2vec', 'ner']\n",
      "\u001b[38;5;2m✔ Initialized pipeline\u001b[0m\n",
      "\u001b[1m\n",
      "============================= Training pipeline =============================\u001b[0m\n",
      "\u001b[38;5;4mℹ Pipeline: ['tok2vec', 'ner']\u001b[0m\n",
      "\u001b[38;5;4mℹ Initial learn rate: 0.001\u001b[0m\n",
      "E    #       LOSS TOK2VEC  LOSS NER  ENTS_F  ENTS_P  ENTS_R  SCORE \n",
      "---  ------  ------------  --------  ------  ------  ------  ------\n",
      "  0       0          0.00     32.50   15.17    8.21  100.00    0.15\n",
      "105     200          0.29    374.11  100.00  100.00  100.00    1.00\n",
      "305     400          0.00      0.00  100.00  100.00  100.00    1.00\n",
      "505     600          0.00      0.00  100.00  100.00  100.00    1.00\n",
      "705     800          0.00      0.00  100.00  100.00  100.00    1.00\n",
      "905    1000          0.00      0.00  100.00  100.00  100.00    1.00\n",
      "1105    1200          0.00      0.00  100.00  100.00  100.00    1.00\n",
      "1305    1400          0.00      0.00  100.00  100.00  100.00    1.00\n",
      "1505    1600          0.00      0.00  100.00  100.00  100.00    1.00\n",
      "1705    1800          0.00      0.00  100.00  100.00  100.00    1.00\n",
      "\u001b[38;5;2m✔ Saved pipeline to output directory\u001b[0m\n",
      "/home/eddygiusepe/Imagens/Eddy_codigos/NLP_Transformers/Fine-tune_BERT_NER/output_ner_ingles/model-last\n"
     ]
    }
   ],
   "source": [
    "!python -m spacy train /home/eddygiusepe/Imagens/Eddy_codigos/NLP_Transformers/Fine-tune_BERT_NER/output_ner_ingles/config.cfg --output /home/eddygiusepe/Imagens/Eddy_codigos/NLP_Transformers/Fine-tune_BERT_NER/output_ner_ingles --paths.train /home/eddygiusepe/Imagens/Eddy_codigos/NLP_Transformers/Fine-tune_BERT_NER/output_ner_ingles/train.spacy --paths.dev /home/eddygiusepe/Imagens/Eddy_codigos/NLP_Transformers/Fine-tune_BERT_NER/output_ner_ingles/train.spacy\n",
    "\n",
    "     "
   ]
  },
  {
   "attachments": {},
   "cell_type": "markdown",
   "metadata": {},
   "source": [
    "## Carregando nosso Modelo Treinado - Inglês"
   ]
  },
  {
   "cell_type": "code",
   "execution_count": 17,
   "metadata": {},
   "outputs": [],
   "source": [
    "# Carregamos o Melhor modelo\n",
    "nlp1 = spacy.load(r\"/home/eddygiusepe/Imagens/Eddy_codigos/NLP_Transformers/Fine-tune_BERT_NER/output_ner_ingles/model-best\")"
   ]
  },
  {
   "cell_type": "code",
   "execution_count": 18,
   "metadata": {},
   "outputs": [
    {
     "data": {
      "text/plain": [
       "(Grapes, grapes, grapes, grapes, grapes, grapes, grapes)"
      ]
     },
     "execution_count": 18,
     "metadata": {},
     "output_type": "execute_result"
    }
   ],
   "source": [
    "# Vejamos um exemplo com o seguinte texto:\n",
    "doc = nlp1(\n",
    "            \"Well, considering or labelling something delicious, totally depends on the palette and taste of a particular person.\"\n",
    "            \"Grapes are a form of a delicacy which is generally enjoyed by most people. Some people might actually like grapes and\"\n",
    "            \"some people might not. But why not pop a handful of grapes in your mouth, without doing any labour. The best thing about\"\n",
    "            \"eating grapes is that it makes you feel like royalty(when you directly eat the grapes from the sticks, without using your hands).\"\n",
    "            \"Well, I consider black grapes to be more delicious than green grapes, may be because of its higher sweet content.\"\n",
    "            \"So next time , when you come across grapes, pop them in your mouth and decid for yourself whether it satisfies your delicacies or not.\"\n",
    "          )\n",
    "\n",
    "doc.ents"
   ]
  },
  {
   "cell_type": "code",
   "execution_count": 19,
   "metadata": {},
   "outputs": [],
   "source": [
    "colors = {'Fruit': \"#85C1E9\"}\n",
    "options = {\"ents\": ['Fruit'], \"colors\": colors}"
   ]
  },
  {
   "cell_type": "code",
   "execution_count": 20,
   "metadata": {},
   "outputs": [
    {
     "data": {
      "text/html": [
       "<span class=\"tex2jax_ignore\"><div class=\"entities\" style=\"line-height: 2.5; direction: ltr\">Well, considering or labelling something delicious, totally depends on the palette and taste of a particular person.\n",
       "<mark class=\"entity\" style=\"background: #85C1E9; padding: 0.45em 0.6em; margin: 0 0.25em; line-height: 1; border-radius: 0.35em;\">\n",
       "    Grapes\n",
       "    <span style=\"font-size: 0.8em; font-weight: bold; line-height: 1; border-radius: 0.35em; vertical-align: middle; margin-left: 0.5rem\">Fruit</span>\n",
       "</mark>\n",
       " are a form of a delicacy which is generally enjoyed by most people. Some people might actually like \n",
       "<mark class=\"entity\" style=\"background: #85C1E9; padding: 0.45em 0.6em; margin: 0 0.25em; line-height: 1; border-radius: 0.35em;\">\n",
       "    grapes\n",
       "    <span style=\"font-size: 0.8em; font-weight: bold; line-height: 1; border-radius: 0.35em; vertical-align: middle; margin-left: 0.5rem\">Fruit</span>\n",
       "</mark>\n",
       " andsome people might not. But why not pop a handful of \n",
       "<mark class=\"entity\" style=\"background: #85C1E9; padding: 0.45em 0.6em; margin: 0 0.25em; line-height: 1; border-radius: 0.35em;\">\n",
       "    grapes\n",
       "    <span style=\"font-size: 0.8em; font-weight: bold; line-height: 1; border-radius: 0.35em; vertical-align: middle; margin-left: 0.5rem\">Fruit</span>\n",
       "</mark>\n",
       " in your mouth, without doing any labour. The best thing abouteating \n",
       "<mark class=\"entity\" style=\"background: #85C1E9; padding: 0.45em 0.6em; margin: 0 0.25em; line-height: 1; border-radius: 0.35em;\">\n",
       "    grapes\n",
       "    <span style=\"font-size: 0.8em; font-weight: bold; line-height: 1; border-radius: 0.35em; vertical-align: middle; margin-left: 0.5rem\">Fruit</span>\n",
       "</mark>\n",
       " is that it makes you feel like royalty(when you directly eat the grapes from the sticks, without using your hands).Well, I consider black \n",
       "<mark class=\"entity\" style=\"background: #85C1E9; padding: 0.45em 0.6em; margin: 0 0.25em; line-height: 1; border-radius: 0.35em;\">\n",
       "    grapes\n",
       "    <span style=\"font-size: 0.8em; font-weight: bold; line-height: 1; border-radius: 0.35em; vertical-align: middle; margin-left: 0.5rem\">Fruit</span>\n",
       "</mark>\n",
       " to be more delicious than green \n",
       "<mark class=\"entity\" style=\"background: #85C1E9; padding: 0.45em 0.6em; margin: 0 0.25em; line-height: 1; border-radius: 0.35em;\">\n",
       "    grapes\n",
       "    <span style=\"font-size: 0.8em; font-weight: bold; line-height: 1; border-radius: 0.35em; vertical-align: middle; margin-left: 0.5rem\">Fruit</span>\n",
       "</mark>\n",
       ", may be because of its higher sweet content.So next time , when you come across \n",
       "<mark class=\"entity\" style=\"background: #85C1E9; padding: 0.45em 0.6em; margin: 0 0.25em; line-height: 1; border-radius: 0.35em;\">\n",
       "    grapes\n",
       "    <span style=\"font-size: 0.8em; font-weight: bold; line-height: 1; border-radius: 0.35em; vertical-align: middle; margin-left: 0.5rem\">Fruit</span>\n",
       "</mark>\n",
       ", pop them in your mouth and decid for yourself whether it satisfies your delicacies or not.</div></span>"
      ],
      "text/plain": [
       "<IPython.core.display.HTML object>"
      ]
     },
     "metadata": {},
     "output_type": "display_data"
    }
   ],
   "source": [
    "spacy.displacy.render(doc, style=\"ent\", jupyter=True, options=options)\n",
    "     "
   ]
  },
  {
   "attachments": {},
   "cell_type": "markdown",
   "metadata": {},
   "source": [
    "# Usando spaCy - NER em Português"
   ]
  },
  {
   "cell_type": "code",
   "execution_count": 21,
   "metadata": {},
   "outputs": [],
   "source": [
    "# Carregamos o spaCy\n",
    "import spacy"
   ]
  },
  {
   "cell_type": "code",
   "execution_count": 22,
   "metadata": {},
   "outputs": [],
   "source": [
    "# Carregamos nosso modelo pré-treinado, em português\n",
    "\n",
    "nlp = spacy.load(\"pt_core_news_lg\") # !python -m spacy download pt_core_news_lg"
   ]
  },
  {
   "cell_type": "code",
   "execution_count": 23,
   "metadata": {},
   "outputs": [],
   "source": [
    "# Vamos processar um documento COMPLETO, por exemplo:\n",
    "text = (\"Quando Sebastian Thrun começou a trabalhar em carros autônomos na\"\n",
    "        \"Google em 2007, poucas pessoas fora da empresa o levaram\"\n",
    "        \"a sério. Posso dizer que CEOs muito seniores de grandes empresas americanas\"\n",
    "        \"as montadoras apertariam minha mão e se afastariam porque eu não estava\"\n",
    "        \"vale a pena conversar, disse Thrun, em entrevista ao Recode anteriormente\"\n",
    "        \"esta semana.\")\n",
    "\n",
    "doc = nlp(text)"
   ]
  },
  {
   "cell_type": "code",
   "execution_count": 24,
   "metadata": {},
   "outputs": [
    {
     "name": "stdout",
     "output_type": "stream",
     "text": [
      "Noun phrases (frases substantivas): ['Sebastian Thrun', 'carros autônomos', 'poucas pessoas', 'empresa', 'o levarama sério', 'CEOs muito seniores de grandes empresas americanasas montadoras', 'minha mão', 'eu', 'a pena', 'Thrun', ', em entrevista', 'Recode anteriormenteesta']\n"
     ]
    }
   ],
   "source": [
    "# Analisamos a sintaxe\n",
    "print(\"Noun phrases (frases substantivas):\", [chunk.text for chunk in doc.noun_chunks])"
   ]
  },
  {
   "cell_type": "code",
   "execution_count": 25,
   "metadata": {},
   "outputs": [
    {
     "name": "stdout",
     "output_type": "stream",
     "text": [
      "Verbs (Verbos): ['começar', 'trabalhar', 'Posso', 'dizer', 'apertar', 'afastar', 'estavavale', 'conversar', 'dizer']\n"
     ]
    }
   ],
   "source": [
    "# Analisamos a sintaxe\n",
    "print(\"Verbs (Verbos):\", [token.lemma_ for token in doc if token.pos_ == \"VERB\"])"
   ]
  },
  {
   "cell_type": "code",
   "execution_count": 26,
   "metadata": {},
   "outputs": [
    {
     "name": "stdout",
     "output_type": "stream",
     "text": [
      "Sebastian Thrun PER\n",
      "levarama LOC\n",
      "Recode ORG\n"
     ]
    }
   ],
   "source": [
    "# Encontre entidades, frases e conceitos nomeados\n",
    "for entity in doc.ents:\n",
    "    print(entity.text, entity.label_)\n",
    "    "
   ]
  },
  {
   "cell_type": "code",
   "execution_count": 27,
   "metadata": {},
   "outputs": [
    {
     "name": "stdout",
     "output_type": "stream",
     "text": [
      "Sebastian Thrun PER\n",
      "Google ORG\n"
     ]
    }
   ],
   "source": [
    "# Analisamos uma frase ou um documento pequeno\n",
    "text = \"Quando Sebastian Thrun começou a trabalhar em carros autônomos no Google em 2007, poucas pessoas fora da empresa o levaram a sério.\"\n",
    "doc = nlp(text)\n",
    "\n",
    "\n",
    "# Encontre entidades, frases e conceitos nomeados\n",
    "for entity in doc.ents:\n",
    "    print(entity.text, entity.label_)"
   ]
  },
  {
   "cell_type": "code",
   "execution_count": 28,
   "metadata": {},
   "outputs": [],
   "source": [
    "# Carregamos displacy\n",
    "from spacy import displacy"
   ]
  },
  {
   "cell_type": "code",
   "execution_count": 29,
   "metadata": {},
   "outputs": [
    {
     "data": {
      "text/html": [
       "<span class=\"tex2jax_ignore\"><div class=\"entities\" style=\"line-height: 2.5; direction: ltr\">Quando \n",
       "<mark class=\"entity\" style=\"background: #ddd; padding: 0.45em 0.6em; margin: 0 0.25em; line-height: 1; border-radius: 0.35em;\">\n",
       "    Sebastian Thrun\n",
       "    <span style=\"font-size: 0.8em; font-weight: bold; line-height: 1; border-radius: 0.35em; vertical-align: middle; margin-left: 0.5rem\">PER</span>\n",
       "</mark>\n",
       " começou a trabalhar em carros autônomos no \n",
       "<mark class=\"entity\" style=\"background: #7aecec; padding: 0.45em 0.6em; margin: 0 0.25em; line-height: 1; border-radius: 0.35em;\">\n",
       "    Google\n",
       "    <span style=\"font-size: 0.8em; font-weight: bold; line-height: 1; border-radius: 0.35em; vertical-align: middle; margin-left: 0.5rem\">ORG</span>\n",
       "</mark>\n",
       " em 2007, poucas pessoas fora da empresa o levaram a sério.</div></span>"
      ],
      "text/plain": [
       "<IPython.core.display.HTML object>"
      ]
     },
     "metadata": {},
     "output_type": "display_data"
    }
   ],
   "source": [
    "displacy.render(doc, style=\"ent\", jupyter=True)"
   ]
  },
  {
   "cell_type": "code",
   "execution_count": 30,
   "metadata": {},
   "outputs": [],
   "source": [
    "train = [\n",
    "        (\"Um morango de tamanho médio tem cerca de 200 sementes em sua superfície externa e são bastante comestíveis.\",{\"entities\":[(3,10,\"fruta\")]}),\n",
    "        (\"A casca externa da goiaba é de sabor amargo e espessa, verde escura para frutas cruas e, à medida que a fruta amadurece, o amargor diminui.\",{\"entities\":[(19,25,\"fruta\")]}),\n",
    "        (\"A uva é um dos tipos de frutas mais cultivadas no mundo, principalmente para a elaboração de diversos vinhos.\",{\"entities\":[(2,5,\"fruta\")]}),\n",
    "        (\"A melancia é composta por 92% de água e quantidades significativas de vitaminas e antioxidantes.\",{\"entities\":[(2,10,\"fruta\")]}),\n",
    "        (\"Os frutos do mamão são geralmente de forma cilíndrica e o tamanho pode ultrapassar 20 polegadas.\",{\"entities\":[(13,18,\"fruta\")]}),\n",
    "        (\"A manga, a rainha das frutas, é uma drupa que cresce em regiões tropicais.\",{\"entities\":[(2,7,\"fruta\")]}),\n",
    "        (\"A laranja é uma ótima fonte de vitamina C.\",{\"entities\":[(2,10,\"fruta\")]}),\n",
    "        (\"Uma maçã por dia mantém o médico afastado.\",{\"entities\":[(4,8,\"fruta\")]}),\n",
    "        (\"Minhas frutas favoritas são: Morango, uva e melancia. Mas eu gosto mais de morango.\",{\"entities\":[(29,36,\"fruta\"),(38,41,\"fruta\"),(44,52,\"fruta\"),(75,82,\"fruta\")]}),\n",
    "        (\"Todo final de semana vou para a feira de Jardim da Penha, aqui em Vitória. Nessa feira sempre compro laranja e morango.\",{\"entities\":[(101,108,\"fruta\"),(111,118,\"fruta\")]})\n",
    "        ]"
   ]
  },
  {
   "cell_type": "code",
   "execution_count": 31,
   "metadata": {},
   "outputs": [
    {
     "name": "stderr",
     "output_type": "stream",
     "text": [
      "100%|██████████| 10/10 [00:00<00:00, 1521.33it/s]\n"
     ]
    }
   ],
   "source": [
    "import os\n",
    "import pandas as pd\n",
    "from tqdm import tqdm\n",
    "from spacy.tokens import DocBin\n",
    "\n",
    "\n",
    "db = DocBin() # Criamos um objeto DocBin\n",
    "\n",
    "for text, annot in tqdm(train): # data in previous format\n",
    "    doc = nlp.make_doc(text) # create doc object from text\n",
    "    ents = []\n",
    "    for start, end, label in annot[\"entities\"]: # add character indexes\n",
    "        span = doc.char_span(start, end, label=label, alignment_mode=\"contract\")\n",
    "        if span is None:\n",
    "            print(\"Skipping entity\")\n",
    "        else:\n",
    "            ents.append(span)\n",
    "    doc.ents = ents # label the text with the ents\n",
    "    db.add(doc)\n",
    "\n",
    "db.to_disk(\"/home/eddygiusepe/Imagens/Eddy_codigos/NLP_Transformers/Fine-tune_BERT_NER/output_ner_portugues/train.spacy\") # save the docbin object"
   ]
  },
  {
   "cell_type": "code",
   "execution_count": 32,
   "metadata": {},
   "outputs": [
    {
     "name": "stdout",
     "output_type": "stream",
     "text": [
      "\u001b[38;5;2m✔ Auto-filled config with all values\u001b[0m\n",
      "\u001b[38;5;2m✔ Saved config\u001b[0m\n",
      "/home/eddygiusepe/Imagens/Eddy_codigos/NLP_Transformers/Fine-tune_BERT_NER/output_ner_portugues/config.cfg\n",
      "You can now add your data and train your pipeline:\n",
      "python -m spacy train config.cfg --paths.train ./train.spacy --paths.dev ./dev.spacy\n"
     ]
    }
   ],
   "source": [
    "!python -m spacy init fill-config /home/eddygiusepe/Imagens/Eddy_codigos/NLP_Transformers/Fine-tune_BERT_NER/output_ner_portugues/base_config.cfg /home/eddygiusepe/Imagens/Eddy_codigos/NLP_Transformers/Fine-tune_BERT_NER/output_ner_portugues/config.cfg\n"
   ]
  },
  {
   "cell_type": "code",
   "execution_count": 33,
   "metadata": {},
   "outputs": [
    {
     "name": "stdout",
     "output_type": "stream",
     "text": [
      "\u001b[38;5;4mℹ Saving to output directory: output_ner_portugues\u001b[0m\n",
      "\u001b[38;5;4mℹ Using CPU\u001b[0m\n",
      "\u001b[1m\n",
      "=========================== Initializing pipeline ===========================\u001b[0m\n",
      "[2022-12-21 00:51:15,768] [INFO] Set up nlp object from config\n",
      "[2022-12-21 00:51:15,778] [INFO] Pipeline: ['tok2vec', 'ner']\n",
      "[2022-12-21 00:51:15,781] [INFO] Created vocabulary\n",
      "[2022-12-21 00:51:24,571] [INFO] Added vectors: pt_core_news_lg\n",
      "[2022-12-21 00:51:27,938] [INFO] Finished initializing nlp object\n",
      "[2022-12-21 00:51:36,453] [INFO] Initialized pipeline components: ['tok2vec', 'ner']\n",
      "\u001b[38;5;2m✔ Initialized pipeline\u001b[0m\n",
      "\u001b[1m\n",
      "============================= Training pipeline =============================\u001b[0m\n",
      "\u001b[38;5;4mℹ Pipeline: ['tok2vec', 'ner']\u001b[0m\n",
      "\u001b[38;5;4mℹ Initial learn rate: 0.001\u001b[0m\n",
      "E    #       LOSS TOK2VEC  LOSS NER  ENTS_F  ENTS_P  ENTS_R  SCORE \n",
      "---  ------  ------------  --------  ------  ------  ------  ------\n",
      "  0       0          0.00     37.83    0.00    0.00    0.00    0.00\n",
      "100     200          0.38    434.27  100.00  100.00  100.00    1.00\n",
      "200     400          0.00      0.00  100.00  100.00  100.00    1.00\n",
      "391     600          0.00      0.00  100.00  100.00  100.00    1.00\n",
      "591     800          0.00      0.00  100.00  100.00  100.00    1.00\n",
      "791    1000          0.00      0.00  100.00  100.00  100.00    1.00\n",
      "991    1200          0.00      0.00  100.00  100.00  100.00    1.00\n",
      "1191    1400          0.00      0.00  100.00  100.00  100.00    1.00\n",
      "1391    1600          0.00      0.00  100.00  100.00  100.00    1.00\n",
      "1591    1800          0.00      0.00  100.00  100.00  100.00    1.00\n",
      "\u001b[38;5;2m✔ Saved pipeline to output directory\u001b[0m\n",
      "output_ner_portugues/model-last\n"
     ]
    }
   ],
   "source": [
    "!python -m spacy train /home/eddygiusepe/Imagens/Eddy_codigos/NLP_Transformers/Fine-tune_BERT_NER/output_ner_portugues/config.cfg --output ./output_ner_portugues --paths.train /home/eddygiusepe/Imagens/Eddy_codigos/NLP_Transformers/Fine-tune_BERT_NER/output_ner_portugues/train.spacy --paths.dev /home/eddygiusepe/Imagens/Eddy_codigos/NLP_Transformers/Fine-tune_BERT_NER/output_ner_portugues/train.spacy\n"
   ]
  },
  {
   "cell_type": "code",
   "execution_count": 34,
   "metadata": {},
   "outputs": [],
   "source": [
    "# Carregamos o Melhor modelo\n",
    "nlp1 = spacy.load(r\"/home/eddygiusepe/Imagens/Eddy_codigos/NLP_Transformers/Fine-tune_BERT_NER/output_ner_portugues/model-best\")"
   ]
  },
  {
   "cell_type": "code",
   "execution_count": 35,
   "metadata": {},
   "outputs": [
    {
     "data": {
      "text/plain": [
       "(morango, melancia, uva, laranja)"
      ]
     },
     "execution_count": 35,
     "metadata": {},
     "output_type": "execute_result"
    }
   ],
   "source": [
    "# Vejamos um exemplo com o seguinte texto:\n",
    "doc = nlp1(\"As minhas frutas favoritas são morango e melancia, mas também gosto de uva e laranja.\")\n",
    "\n",
    "doc.ents"
   ]
  },
  {
   "cell_type": "code",
   "execution_count": 36,
   "metadata": {},
   "outputs": [],
   "source": [
    "colors = {'fruta': \"#85C1E9\"}\n",
    "options = {\"ents\": ['fruta'], \"colors\": colors}"
   ]
  },
  {
   "cell_type": "code",
   "execution_count": 37,
   "metadata": {},
   "outputs": [
    {
     "data": {
      "text/html": [
       "<span class=\"tex2jax_ignore\"><div class=\"entities\" style=\"line-height: 2.5; direction: ltr\">As minhas frutas favoritas são \n",
       "<mark class=\"entity\" style=\"background: #85C1E9; padding: 0.45em 0.6em; margin: 0 0.25em; line-height: 1; border-radius: 0.35em;\">\n",
       "    morango\n",
       "    <span style=\"font-size: 0.8em; font-weight: bold; line-height: 1; border-radius: 0.35em; vertical-align: middle; margin-left: 0.5rem\">fruta</span>\n",
       "</mark>\n",
       " e \n",
       "<mark class=\"entity\" style=\"background: #85C1E9; padding: 0.45em 0.6em; margin: 0 0.25em; line-height: 1; border-radius: 0.35em;\">\n",
       "    melancia\n",
       "    <span style=\"font-size: 0.8em; font-weight: bold; line-height: 1; border-radius: 0.35em; vertical-align: middle; margin-left: 0.5rem\">fruta</span>\n",
       "</mark>\n",
       ", mas também gosto de \n",
       "<mark class=\"entity\" style=\"background: #85C1E9; padding: 0.45em 0.6em; margin: 0 0.25em; line-height: 1; border-radius: 0.35em;\">\n",
       "    uva\n",
       "    <span style=\"font-size: 0.8em; font-weight: bold; line-height: 1; border-radius: 0.35em; vertical-align: middle; margin-left: 0.5rem\">fruta</span>\n",
       "</mark>\n",
       " e \n",
       "<mark class=\"entity\" style=\"background: #85C1E9; padding: 0.45em 0.6em; margin: 0 0.25em; line-height: 1; border-radius: 0.35em;\">\n",
       "    laranja\n",
       "    <span style=\"font-size: 0.8em; font-weight: bold; line-height: 1; border-radius: 0.35em; vertical-align: middle; margin-left: 0.5rem\">fruta</span>\n",
       "</mark>\n",
       ".</div></span>"
      ],
      "text/plain": [
       "<IPython.core.display.HTML object>"
      ]
     },
     "metadata": {},
     "output_type": "display_data"
    }
   ],
   "source": [
    "spacy.displacy.render(doc, style=\"ent\", jupyter=True, options=options)"
   ]
  },
  {
   "cell_type": "code",
   "execution_count": 38,
   "metadata": {},
   "outputs": [
    {
     "data": {
      "text/plain": [
       "(uva,)"
      ]
     },
     "execution_count": 38,
     "metadata": {},
     "output_type": "execute_result"
    }
   ],
   "source": [
    "doc1 = nlp1(\"A fruta que mais como na feira de Vitória é a uva.\")\n",
    "doc1.ents"
   ]
  },
  {
   "cell_type": "code",
   "execution_count": 39,
   "metadata": {},
   "outputs": [
    {
     "data": {
      "text/html": [
       "<span class=\"tex2jax_ignore\"><div class=\"entities\" style=\"line-height: 2.5; direction: ltr\">A fruta que mais como na feira de Vitória é a \n",
       "<mark class=\"entity\" style=\"background: #85C1E9; padding: 0.45em 0.6em; margin: 0 0.25em; line-height: 1; border-radius: 0.35em;\">\n",
       "    uva\n",
       "    <span style=\"font-size: 0.8em; font-weight: bold; line-height: 1; border-radius: 0.35em; vertical-align: middle; margin-left: 0.5rem\">fruta</span>\n",
       "</mark>\n",
       ".</div></span>"
      ],
      "text/plain": [
       "<IPython.core.display.HTML object>"
      ]
     },
     "metadata": {},
     "output_type": "display_data"
    }
   ],
   "source": [
    "spacy.displacy.render(doc1, style=\"ent\", jupyter=True, options=options)"
   ]
  }
 ],
 "metadata": {
  "kernelspec": {
   "display_name": "venv_transformers",
   "language": "python",
   "name": "python3"
  },
  "language_info": {
   "codemirror_mode": {
    "name": "ipython",
    "version": 3
   },
   "file_extension": ".py",
   "mimetype": "text/x-python",
   "name": "python",
   "nbconvert_exporter": "python",
   "pygments_lexer": "ipython3",
   "version": "3.8.10"
  },
  "orig_nbformat": 4,
  "vscode": {
   "interpreter": {
    "hash": "744cf54c6e08528d59b17d69482cd9cfecb0ea2489e1abb457edfe7bddc9bd30"
   }
  }
 },
 "nbformat": 4,
 "nbformat_minor": 2
}
