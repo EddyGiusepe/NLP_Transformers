{
 "cells": [
  {
   "attachments": {},
   "cell_type": "markdown",
   "metadata": {},
   "source": [
    "<h1 align=\"center\">Fine-tune BERT Model for Named Entity Recognition in Google Colab</h1>"
   ]
  },
  {
   "attachments": {},
   "cell_type": "markdown",
   "metadata": {},
   "source": [
    "Data Scientist.: Dr.Eddy Giusepe Chirinos Isidro"
   ]
  },
  {
   "attachments": {},
   "cell_type": "markdown",
   "metadata": {},
   "source": [
    "A seguir instalamos algumas bibliotecas necessárias para trabalhar com `Transformer Hugging Face`:\n",
    "\n",
    "```\n",
    "!pip install datasets -q\n",
    "!pip install tokenizers -q\n",
    "!pip install transformers -q\n",
    "!pip install seqeval -q\n",
    "```\n",
    "\n",
    "* Biblioteca `datasets` para buscar dados\n",
    "\n",
    "* `tokenizers` para pré-processar os dados\n",
    "\n",
    "* `transformers` para ajustar (fine-tune) os modelos\n",
    "\n",
    "* `seqeval` para calcular as métricas do modelo"
   ]
  },
  {
   "attachments": {},
   "cell_type": "markdown",
   "metadata": {},
   "source": [
    "# Dataset"
   ]
  },
  {
   "attachments": {},
   "cell_type": "markdown",
   "metadata": {},
   "source": [
    "Usaremos um conjunto de dados `NER em inglês` do módulo de conjuntos de dados HuggingFace .\n",
    "\n",
    "Há um total de $4$ classes, Pessoa(`PER`), Organização(`ORG`), Localização(`LOC`) e outras(`O`)."
   ]
  },
  {
   "cell_type": "code",
   "execution_count": 1,
   "metadata": {},
   "outputs": [
    {
     "name": "stderr",
     "output_type": "stream",
     "text": [
      "/home/tesla/Eddy_Giusepe_Deep_Learning/NLP_Transformers/venv_transformers/lib/python3.8/site-packages/tqdm/auto.py:22: TqdmWarning: IProgress not found. Please update jupyter and ipywidgets. See https://ipywidgets.readthedocs.io/en/stable/user_install.html\n",
      "  from .autonotebook import tqdm as notebook_tqdm\n",
      "Found cached dataset wikiann (/home/tesla/.cache/huggingface/datasets/wikiann/en/1.1.0/4bfd4fe4468ab78bb6e096968f61fab7a888f44f9d3371c2f3fea7e74a5a354e)\n",
      "100%|██████████| 3/3 [00:00<00:00, 662.05it/s]\n"
     ]
    }
   ],
   "source": [
    "from datasets import load_dataset\n",
    "\n",
    "dataset = load_dataset('wikiann', 'en')"
   ]
  },
  {
   "cell_type": "code",
   "execution_count": 2,
   "metadata": {},
   "outputs": [
    {
     "data": {
      "text/plain": [
       "['O', 'B-PER', 'I-PER', 'B-ORG', 'I-ORG', 'B-LOC', 'I-LOC']"
      ]
     },
     "execution_count": 2,
     "metadata": {},
     "output_type": "execute_result"
    }
   ],
   "source": [
    "label_names = dataset[\"train\"].features[\"ner_tags\"].feature.names\n",
    "\n",
    "label_names"
   ]
  },
  {
   "attachments": {},
   "cell_type": "markdown",
   "metadata": {},
   "source": [
    "O conjunto de treinamento tem $20000$ amostras e o conjunto de validação e teste tem $10000$ amostras cada."
   ]
  },
  {
   "cell_type": "code",
   "execution_count": 3,
   "metadata": {},
   "outputs": [
    {
     "data": {
      "text/plain": [
       "DatasetDict({\n",
       "    validation: Dataset({\n",
       "        features: ['tokens', 'ner_tags', 'langs', 'spans'],\n",
       "        num_rows: 10000\n",
       "    })\n",
       "    test: Dataset({\n",
       "        features: ['tokens', 'ner_tags', 'langs', 'spans'],\n",
       "        num_rows: 10000\n",
       "    })\n",
       "    train: Dataset({\n",
       "        features: ['tokens', 'ner_tags', 'langs', 'spans'],\n",
       "        num_rows: 20000\n",
       "    })\n",
       "})"
      ]
     },
     "execution_count": 3,
     "metadata": {},
     "output_type": "execute_result"
    }
   ],
   "source": [
    "dataset"
   ]
  },
  {
   "cell_type": "code",
   "execution_count": 4,
   "metadata": {},
   "outputs": [
    {
     "data": {
      "text/plain": [
       "Dataset({\n",
       "    features: ['tokens', 'ner_tags', 'langs', 'spans'],\n",
       "    num_rows: 20000\n",
       "})"
      ]
     },
     "execution_count": 4,
     "metadata": {},
     "output_type": "execute_result"
    }
   ],
   "source": [
    "dataset['train']"
   ]
  },
  {
   "attachments": {},
   "cell_type": "markdown",
   "metadata": {},
   "source": [
    "# Processamento de Dados"
   ]
  },
  {
   "attachments": {},
   "cell_type": "markdown",
   "metadata": {},
   "source": [
    "O conjunto de dados tem a seguinte aparência, tem quatro chaves – `'tokens'`, `'ner_tags'`, `'langs'`, `'spans'`. "
   ]
  },
  {
   "cell_type": "code",
   "execution_count": 5,
   "metadata": {},
   "outputs": [
    {
     "data": {
      "text/plain": [
       "{'tokens': [['R.H.',\n",
       "   'Saunders',\n",
       "   '(',\n",
       "   'St.',\n",
       "   'Lawrence',\n",
       "   'River',\n",
       "   ')',\n",
       "   '(',\n",
       "   '968',\n",
       "   'MW',\n",
       "   ')'],\n",
       "  [';', \"'\", \"''\", 'Anders', 'Lindström', \"''\", \"'\"],\n",
       "  ['Karl', 'Ove', 'Knausgård', '(', 'born', '1968', ')']],\n",
       " 'ner_tags': [[3, 4, 0, 3, 4, 4, 0, 0, 0, 0, 0],\n",
       "  [0, 0, 0, 1, 2, 0, 0],\n",
       "  [1, 2, 2, 0, 0, 0, 0]],\n",
       " 'langs': [['en', 'en', 'en', 'en', 'en', 'en', 'en', 'en', 'en', 'en', 'en'],\n",
       "  ['en', 'en', 'en', 'en', 'en', 'en', 'en'],\n",
       "  ['en', 'en', 'en', 'en', 'en', 'en', 'en']],\n",
       " 'spans': [['ORG: R.H. Saunders', 'ORG: St. Lawrence River'],\n",
       "  ['PER: Anders Lindström'],\n",
       "  ['PER: Karl Ove Knausgård']]}"
      ]
     },
     "execution_count": 5,
     "metadata": {},
     "output_type": "execute_result"
    }
   ],
   "source": [
    "dataset['train'][:3]"
   ]
  },
  {
   "attachments": {},
   "cell_type": "markdown",
   "metadata": {},
   "source": [
    "Os dados precisam ser processados ​​em um formato exigido pelo modelo dos `Transformers`.\n",
    "\n",
    "* `Bert` espera entradas nos formatos `input_ids`, `token_type_ids` e `attention_mask`\n",
    "\n",
    "* O rótulo (`label`) também requer ajuste devido à tokenização de subpalavra usada pelo `BERT`\n",
    "\n",
    "Processaremos os tokens usando o tokenizador de modelo pré-treinado `distilbert-base-uncased`."
   ]
  },
  {
   "cell_type": "code",
   "execution_count": 6,
   "metadata": {},
   "outputs": [],
   "source": [
    "from transformers import AutoTokenizer\n",
    "\n",
    "tokenizer = AutoTokenizer.from_pretrained(\"distilbert-base-uncased\")"
   ]
  },
  {
   "attachments": {},
   "cell_type": "markdown",
   "metadata": {},
   "source": [
    "Vamos ver por que precisamos `ajustar os rótulos` (labels) de acordo com a saída de `tokenização`."
   ]
  },
  {
   "cell_type": "code",
   "execution_count": 7,
   "metadata": {},
   "outputs": [
    {
     "name": "stderr",
     "output_type": "stream",
     "text": [
      "Loading cached processed dataset at /home/tesla/.cache/huggingface/datasets/wikiann/en/1.1.0/4bfd4fe4468ab78bb6e096968f61fab7a888f44f9d3371c2f3fea7e74a5a354e/cache-609d873257891e9f.arrow\n",
      "100%|██████████| 10/10 [00:01<00:00,  5.81ba/s]\n",
      "Loading cached processed dataset at /home/tesla/.cache/huggingface/datasets/wikiann/en/1.1.0/4bfd4fe4468ab78bb6e096968f61fab7a888f44f9d3371c2f3fea7e74a5a354e/cache-591af6fd0a297aac.arrow\n"
     ]
    }
   ],
   "source": [
    "def tokenize_function(examples):\n",
    "    return tokenizer(examples[\"tokens\"], padding=\"max_length\", truncation=True, is_split_into_words=True)\n",
    "tokenized_datasets_ = dataset.map(tokenize_function, batched=True)\n"
   ]
  },
  {
   "attachments": {},
   "cell_type": "markdown",
   "metadata": {},
   "source": [
    "* `padding` é definido como `max_length`, para preencher a sequência com o comprimento máximo no conjunto de dados\n",
    "\n",
    "* `truncation` é definido como `True`, para truncar qualquer sequência que tenha um comprimento maior que o comprimento máximo do modelo aceito (`512` para bert)\n",
    "\n",
    "* `is_split_into_words` é definido como `True`, pois o conjunto de dados contém os tokens em vez de texto\n",
    "\n",
    "\n",
    "Se verificarmos o comprimento de `input_ids` e `ner_tags` de `tokenized_datasets_`, não corresponderá:"
   ]
  },
  {
   "cell_type": "code",
   "execution_count": 8,
   "metadata": {},
   "outputs": [
    {
     "data": {
      "text/plain": [
       "False"
      ]
     },
     "execution_count": 8,
     "metadata": {},
     "output_type": "execute_result"
    }
   ],
   "source": [
    "len(tokenized_datasets_['train'][0]['input_ids'])  == len(tokenized_datasets_['train'][0]['ner_tags'])\n"
   ]
  },
  {
   "attachments": {},
   "cell_type": "markdown",
   "metadata": {},
   "source": [
    "<font color=\"red\">Esta é a razão pela qual exigimos ajustar os rótulos de acordo com a saída tokenizada.</font>"
   ]
  },
  {
   "cell_type": "code",
   "execution_count": 9,
   "metadata": {},
   "outputs": [],
   "source": [
    "# Link de estudo --> https://www.freecodecamp.org/news/getting-started-with-ner-models-using-huggingface/\n",
    "# Obtenha os valores para input_ids, Attention_mask e rótulos ajustados\n",
    "def tokenize_adjust_labels(samples):\n",
    "    tokenized_samples = tokenizer.batch_encode_plus(samples[\"tokens\"],\n",
    "                                                    is_split_into_words=True,\n",
    "                                                    truncation=True)\n",
    "\n",
    "    total_adjusted_labels = []\n",
    "    print(len(tokenized_samples[\"input_ids\"]))\n",
    "    for k in range(0, len(tokenized_samples[\"input_ids\"])):\n",
    "        prev_wid = -1\n",
    "        word_ids_list = tokenized_samples.word_ids(batch_index=k)\n",
    "        existing_label_ids = samples[\"ner_tags\"][k]\n",
    "        i = -1\n",
    "        adjusted_label_ids = []\n",
    "        for word_idx in word_ids_list:\n",
    "            # Os tokens especiais têm um ID de palavra que é None. Definimos o rótulo como -100 \n",
    "            # para que sejam automaticamente ignorados na função de Loss.\n",
    "            if(word_idx is None):\n",
    "                adjusted_label_ids.append(-100)\n",
    "        \n",
    "            elif(word_idx!=prev_wid):\n",
    "                i = i + 1\n",
    "                adjusted_label_ids.append(existing_label_ids[i])\n",
    "                prev_wid = word_idx\n",
    "\n",
    "            else:\n",
    "                label_name = label_names[existing_label_ids[i]]\n",
    "                adjusted_label_ids.append(existing_label_ids[i])\n",
    "\n",
    "\n",
    "        total_adjusted_labels.append(adjusted_label_ids)\n",
    "    # Adicionar labels ajustados às amostras tokenizadas\n",
    "    tokenized_samples[\"labels\"] = total_adjusted_labels\n",
    "\n",
    "    return tokenized_samples\n"
   ]
  },
  {
   "attachments": {},
   "cell_type": "markdown",
   "metadata": {},
   "source": [
    "A função `tokenize_adjust_labels` pega amostras (objeto de conjunto de dados bruto) como entrada e tokeniza usando o objeto tokenizador. Para entender os `word_ids`, considere o seguinte exemplo:\n"
   ]
  },
  {
   "cell_type": "code",
   "execution_count": 10,
   "metadata": {},
   "outputs": [
    {
     "data": {
      "text/plain": [
       "{'input_ids': [101, 2986, 8694, 11265, 2099, 1999, 8224, 15270, 2497, 999, 102], 'attention_mask': [1, 1, 1, 1, 1, 1, 1, 1, 1, 1, 1]}"
      ]
     },
     "execution_count": 10,
     "metadata": {},
     "output_type": "execute_result"
    }
   ],
   "source": [
    "out = tokenizer(\"Fine tune NER in google colab!\")\n",
    "out"
   ]
  },
  {
   "cell_type": "code",
   "execution_count": 11,
   "metadata": {},
   "outputs": [
    {
     "data": {
      "text/plain": [
       "[None, 0, 1, 2, 2, 3, 4, 5, 5, 6, None]"
      ]
     },
     "execution_count": 11,
     "metadata": {},
     "output_type": "execute_result"
    }
   ],
   "source": [
    "out.word_ids(0)"
   ]
  },
  {
   "attachments": {},
   "cell_type": "markdown",
   "metadata": {},
   "source": [
    "Aqui, podemos ver que os `IDs` $2$ e $5$ são repetidos duas vezes devido à `tokenização da subpalavra`, então repetiremos o rótulo para as subpalavras (`sub-words`).\n",
    "\n",
    "Vamos definir o `label` como `-100` para tokens especiais, pois `word id` é `None` para eles e isso será automaticamente ignorado na função de perda (`Loss`).\n",
    "\n",
    "Aplicaremos `tokenize_adjust_labels` a todo o conjunto de dados usando a função `map`."
   ]
  },
  {
   "cell_type": "code",
   "execution_count": 12,
   "metadata": {},
   "outputs": [
    {
     "name": "stderr",
     "output_type": "stream",
     "text": [
      "Loading cached processed dataset at /home/tesla/.cache/huggingface/datasets/wikiann/en/1.1.0/4bfd4fe4468ab78bb6e096968f61fab7a888f44f9d3371c2f3fea7e74a5a354e/cache-600d88128304f51f.arrow\n",
      " 50%|█████     | 5/10 [00:00<00:00, 19.65ba/s]"
     ]
    },
    {
     "name": "stdout",
     "output_type": "stream",
     "text": [
      "1000\n",
      "1000\n",
      "1000\n",
      "1000\n",
      "1000\n"
     ]
    },
    {
     "name": "stderr",
     "output_type": "stream",
     "text": [
      " 90%|█████████ | 9/10 [00:00<00:00, 17.65ba/s]"
     ]
    },
    {
     "name": "stdout",
     "output_type": "stream",
     "text": [
      "1000\n",
      "1000\n",
      "1000\n",
      "1000\n"
     ]
    },
    {
     "name": "stderr",
     "output_type": "stream",
     "text": [
      "100%|██████████| 10/10 [00:00<00:00, 18.10ba/s]\n",
      "Loading cached processed dataset at /home/tesla/.cache/huggingface/datasets/wikiann/en/1.1.0/4bfd4fe4468ab78bb6e096968f61fab7a888f44f9d3371c2f3fea7e74a5a354e/cache-14a13a46c284ef6c.arrow\n"
     ]
    },
    {
     "name": "stdout",
     "output_type": "stream",
     "text": [
      "1000\n"
     ]
    }
   ],
   "source": [
    "tokenized_dataset = dataset.map(tokenize_adjust_labels,\n",
    "                                batched=True,\n",
    "                                remove_columns=['tokens', 'ner_tags', 'langs', 'spans'])\n",
    "                                "
   ]
  },
  {
   "attachments": {},
   "cell_type": "markdown",
   "metadata": {},
   "source": [
    "Vamos remover as colunas que não são necessárias usando o parâmetro `remove_columns`.\n",
    "\n",
    "Abaixo está o que nosso ` tokenized_dataset ` contém:"
   ]
  },
  {
   "cell_type": "code",
   "execution_count": 13,
   "metadata": {},
   "outputs": [
    {
     "data": {
      "text/plain": [
       "DatasetDict({\n",
       "    validation: Dataset({\n",
       "        features: ['input_ids', 'attention_mask', 'labels'],\n",
       "        num_rows: 10000\n",
       "    })\n",
       "    test: Dataset({\n",
       "        features: ['input_ids', 'attention_mask', 'labels'],\n",
       "        num_rows: 10000\n",
       "    })\n",
       "    train: Dataset({\n",
       "        features: ['input_ids', 'attention_mask', 'labels'],\n",
       "        num_rows: 20000\n",
       "    })\n",
       "})"
      ]
     },
     "execution_count": 13,
     "metadata": {},
     "output_type": "execute_result"
    }
   ],
   "source": [
    "tokenized_dataset"
   ]
  },
  {
   "attachments": {},
   "cell_type": "markdown",
   "metadata": {},
   "source": [
    "Agora, vamos ver algumas amostras do `tokenized_dataset`:"
   ]
  },
  {
   "cell_type": "code",
   "execution_count": 14,
   "metadata": {},
   "outputs": [
    {
     "data": {
      "text/plain": [
       "{'input_ids': [[101,\n",
       "   1054,\n",
       "   1012,\n",
       "   1044,\n",
       "   1012,\n",
       "   15247,\n",
       "   1006,\n",
       "   2358,\n",
       "   1012,\n",
       "   5623,\n",
       "   2314,\n",
       "   1007,\n",
       "   1006,\n",
       "   5986,\n",
       "   2620,\n",
       "   12464,\n",
       "   1007,\n",
       "   102],\n",
       "  [101,\n",
       "   1025,\n",
       "   1005,\n",
       "   1005,\n",
       "   1005,\n",
       "   15387,\n",
       "   11409,\n",
       "   5104,\n",
       "   13887,\n",
       "   1005,\n",
       "   1005,\n",
       "   1005,\n",
       "   102],\n",
       "  [101, 6382, 1051, 3726, 14161, 20559, 13444, 1006, 2141, 3380, 1007, 102]],\n",
       " 'attention_mask': [[1, 1, 1, 1, 1, 1, 1, 1, 1, 1, 1, 1, 1, 1, 1, 1, 1, 1],\n",
       "  [1, 1, 1, 1, 1, 1, 1, 1, 1, 1, 1, 1, 1],\n",
       "  [1, 1, 1, 1, 1, 1, 1, 1, 1, 1, 1, 1]],\n",
       " 'labels': [[-100, 3, 3, 3, 3, 4, 0, 3, 3, 4, 4, 0, 0, 0, 0, 0, 0, -100],\n",
       "  [-100, 0, 0, 0, 0, 1, 2, 2, 2, 0, 0, 0, -100],\n",
       "  [-100, 1, 2, 2, 2, 2, 2, 0, 0, 0, 0, -100]]}"
      ]
     },
     "execution_count": 14,
     "metadata": {},
     "output_type": "execute_result"
    }
   ],
   "source": [
    "tokenized_dataset['train'][:3]"
   ]
  },
  {
   "attachments": {},
   "cell_type": "markdown",
   "metadata": {},
   "source": [
    "Como podemos ver, amostras diferentes têm comprimentos diferentes, portanto, precisamos preencher os tokens para que tenham o mesmo comprimento. Para isso, usaremos o [DataCollatorForTokenClassification](https://huggingface.co/docs/transformers/main/main_classes/data_collator#transformers.DataCollatorForTokenClassification), ele preencherá tanto as entradas quanto os rótulos.\n"
   ]
  },
  {
   "cell_type": "code",
   "execution_count": 15,
   "metadata": {},
   "outputs": [],
   "source": [
    "from transformers import DataCollatorForTokenClassification\n",
    "\n",
    "data_collator = DataCollatorForTokenClassification(tokenizer)"
   ]
  },
  {
   "cell_type": "code",
   "execution_count": 16,
   "metadata": {},
   "outputs": [
    {
     "data": {
      "text/plain": [
       "DataCollatorForTokenClassification(tokenizer=PreTrainedTokenizerFast(name_or_path='distilbert-base-uncased', vocab_size=30522, model_max_len=512, is_fast=True, padding_side='right', truncation_side='right', special_tokens={'unk_token': '[UNK]', 'sep_token': '[SEP]', 'pad_token': '[PAD]', 'cls_token': '[CLS]', 'mask_token': '[MASK]'}), padding=True, max_length=None, pad_to_multiple_of=None, label_pad_token_id=-100, return_tensors='pt')"
      ]
     },
     "execution_count": 16,
     "metadata": {},
     "output_type": "execute_result"
    }
   ],
   "source": [
    "data_collator"
   ]
  },
  {
   "attachments": {},
   "cell_type": "markdown",
   "metadata": {},
   "source": [
    "## <font color=\"red\">Fine-tune</font>"
   ]
  },
  {
   "attachments": {},
   "cell_type": "markdown",
   "metadata": {},
   "source": [
    "* Usaremos o modelo `Distillbert-base-uncased` para ajuste fino (`fine-tuning`)\n",
    "\n",
    "* Precisamos especificar o número de rótulos presentes no dataset"
   ]
  },
  {
   "cell_type": "code",
   "execution_count": 17,
   "metadata": {},
   "outputs": [
    {
     "name": "stderr",
     "output_type": "stream",
     "text": [
      "Downloading: 100%|██████████| 268M/268M [00:24<00:00, 10.8MB/s] \n",
      "Some weights of the model checkpoint at distilbert-base-uncased were not used when initializing DistilBertForTokenClassification: ['vocab_projector.bias', 'vocab_projector.weight', 'vocab_transform.bias', 'vocab_layer_norm.bias', 'vocab_transform.weight', 'vocab_layer_norm.weight']\n",
      "- This IS expected if you are initializing DistilBertForTokenClassification from the checkpoint of a model trained on another task or with another architecture (e.g. initializing a BertForSequenceClassification model from a BertForPreTraining model).\n",
      "- This IS NOT expected if you are initializing DistilBertForTokenClassification from the checkpoint of a model that you expect to be exactly identical (initializing a BertForSequenceClassification model from a BertForSequenceClassification model).\n",
      "Some weights of DistilBertForTokenClassification were not initialized from the model checkpoint at distilbert-base-uncased and are newly initialized: ['classifier.bias', 'classifier.weight']\n",
      "You should probably TRAIN this model on a down-stream task to be able to use it for predictions and inference.\n"
     ]
    }
   ],
   "source": [
    "from transformers import AutoModelForTokenClassification\n",
    "#from transformers import AutoTokenizer\n",
    "\n",
    "model = AutoModelForTokenClassification.from_pretrained(\"distilbert-base-uncased\",\n",
    "                                                        num_labels=len(label_names))\n"
   ]
  },
  {
   "attachments": {},
   "cell_type": "markdown",
   "metadata": {},
   "source": [
    "Precisamos definir uma função que possa processar nossas previsões de modelo e calcular as métricas necessárias. Usaremos `métricas` [seqeval](https://github.com/chakki-works/seqeval), comumente usadas para `classificação de token`."
   ]
  },
  {
   "cell_type": "code",
   "execution_count": 18,
   "metadata": {},
   "outputs": [
    {
     "name": "stderr",
     "output_type": "stream",
     "text": [
      "/tmp/ipykernel_62227/2794963309.py:4: FutureWarning: load_metric is deprecated and will be removed in the next major version of datasets. Use 'evaluate.load' instead, from the new library 🤗 Evaluate: https://huggingface.co/docs/evaluate\n",
      "  metric = load_metric(\"seqeval\")\n",
      "Downloading builder script: 6.33kB [00:00, 5.67MB/s]                   \n"
     ]
    }
   ],
   "source": [
    "import numpy as np\n",
    "from datasets import load_metric\n",
    "\n",
    "metric = load_metric(\"seqeval\")"
   ]
  },
  {
   "cell_type": "code",
   "execution_count": 19,
   "metadata": {},
   "outputs": [
    {
     "data": {
      "text/plain": [
       "Metric(name: \"seqeval\", features: {'predictions': Sequence(feature=Value(dtype='string', id='label'), length=-1, id='sequence'), 'references': Sequence(feature=Value(dtype='string', id='label'), length=-1, id='sequence')}, usage: \"\"\"\n",
       "Produces labelling scores along with its sufficient statistics\n",
       "from a source against one or more references.\n",
       "\n",
       "Args:\n",
       "    predictions: List of List of predicted labels (Estimated targets as returned by a tagger)\n",
       "    references: List of List of reference labels (Ground truth (correct) target values)\n",
       "    suffix: True if the IOB prefix is after type, False otherwise. default: False\n",
       "    scheme: Specify target tagging scheme. Should be one of [\"IOB1\", \"IOB2\", \"IOE1\", \"IOE2\", \"IOBES\", \"BILOU\"].\n",
       "        default: None\n",
       "    mode: Whether to count correct entity labels with incorrect I/B tags as true positives or not.\n",
       "        If you want to only count exact matches, pass mode=\"strict\". default: None.\n",
       "    sample_weight: Array-like of shape (n_samples,), weights for individual samples. default: None\n",
       "    zero_division: Which value to substitute as a metric value when encountering zero division. Should be on of 0, 1,\n",
       "        \"warn\". \"warn\" acts as 0, but the warning is raised.\n",
       "\n",
       "Returns:\n",
       "    'scores': dict. Summary of the scores for overall and per type\n",
       "        Overall:\n",
       "            'accuracy': accuracy,\n",
       "            'precision': precision,\n",
       "            'recall': recall,\n",
       "            'f1': F1 score, also known as balanced F-score or F-measure,\n",
       "        Per type:\n",
       "            'precision': precision,\n",
       "            'recall': recall,\n",
       "            'f1': F1 score, also known as balanced F-score or F-measure\n",
       "Examples:\n",
       "\n",
       "    >>> predictions = [['O', 'O', 'B-MISC', 'I-MISC', 'I-MISC', 'I-MISC', 'O'], ['B-PER', 'I-PER', 'O']]\n",
       "    >>> references = [['O', 'O', 'O', 'B-MISC', 'I-MISC', 'I-MISC', 'O'], ['B-PER', 'I-PER', 'O']]\n",
       "    >>> seqeval = datasets.load_metric(\"seqeval\")\n",
       "    >>> results = seqeval.compute(predictions=predictions, references=references)\n",
       "    >>> print(list(results.keys()))\n",
       "    ['MISC', 'PER', 'overall_precision', 'overall_recall', 'overall_f1', 'overall_accuracy']\n",
       "    >>> print(results[\"overall_f1\"])\n",
       "    0.5\n",
       "    >>> print(results[\"PER\"][\"f1\"])\n",
       "    1.0\n",
       "\"\"\", stored examples: 0)"
      ]
     },
     "execution_count": 19,
     "metadata": {},
     "output_type": "execute_result"
    }
   ],
   "source": [
    "metric"
   ]
  },
  {
   "cell_type": "code",
   "execution_count": 20,
   "metadata": {},
   "outputs": [],
   "source": [
    "def compute_metrics(p):\n",
    "    predictions, labels = p\n",
    "    # Select predicted index with maximum logit for each token\n",
    "    predictions = np.argmax(predictions, axis=2)\n",
    "    # Remove ignored index (special tokens)\n",
    "    true_predictions = [\n",
    "        [label_names[p] for (p, l) in zip(prediction, label) if l != -100]\n",
    "        for prediction, label in zip(predictions, labels)\n",
    "    ]\n",
    "    true_labels = [\n",
    "        [label_names[l] for (p, l) in zip(prediction, label) if l != -100]\n",
    "        for prediction, label in zip(predictions, labels)\n",
    "    ]\n",
    "    results = metric.compute(predictions=true_predictions, references=true_labels)\n",
    "    return {\n",
    "        \"precision\": results[\"overall_precision\"],\n",
    "        \"recall\": results[\"overall_recall\"],\n",
    "        \"f1\": results[\"overall_f1\"],\n",
    "        \"accuracy\": results[\"overall_accuracy\"],\n",
    "    }"
   ]
  },
  {
   "attachments": {},
   "cell_type": "markdown",
   "metadata": {},
   "source": [
    "A entrada (`input`) para a função `compute_metrics` é nomeada tupla contendo previsões do modelo e rótulos correspondentes. Vamos pegar o `logit máximo` para cada token e ignorar os tokens especiais (`-100`) como um rótulo que definimos na parte de pré-processamento. Por fim, retornaremos o dicionário que consiste nas métricas `Precision`, `Recall`, `F1-score` e `Accuracy`.\n",
    "\n",
    "\n",
    "Como nossa função de dataset e métricas está pronta, podemos ajustar (`fine-tune`) o modelo usando `Trainer API`."
   ]
  },
  {
   "cell_type": "code",
   "execution_count": 22,
   "metadata": {},
   "outputs": [],
   "source": [
    "from transformers import TrainingArguments, Trainer\n",
    "\n",
    "batch_size = 16\n",
    "logging_steps = len(tokenized_dataset['train']) // batch_size\n",
    "epochs = 2"
   ]
  },
  {
   "attachments": {},
   "cell_type": "markdown",
   "metadata": {},
   "source": [
    "Executaremos o treinamento por $2$ `epochs` com `batch_size=16`, depois podemos brincar com esses parâmetros para melhorar o desempenho do nosso modelo, se necessário.\n",
    "\n",
    "Para usar o `Trainer API`, precisamos definir argumentos de treinamento que contenham atributos para customizar o treinamento. Para entender todos os parâmetros que ele suporta, consulte a [documentação](https://huggingface.co/docs/transformers/v4.19.2/en/main_classes/trainer#transformers.TrainingArguments)."
   ]
  },
  {
   "cell_type": "code",
   "execution_count": 23,
   "metadata": {},
   "outputs": [],
   "source": [
    "training_args = TrainingArguments(output_dir=\"results\",\n",
    "                                  num_train_epochs=epochs,\n",
    "                                  per_device_train_batch_size=batch_size,\n",
    "                                  per_device_eval_batch_size=batch_size,\n",
    "                                  evaluation_strategy=\"epoch\",\n",
    "                                  disable_tqdm=False,\n",
    "                                  logging_steps=logging_steps) "
   ]
  },
  {
   "attachments": {},
   "cell_type": "markdown",
   "metadata": {},
   "source": [
    "Agora, vamos instanciar o objeto `Trainer` e passar o modelo, datasets, argumentos de treinamento, tokenizador, função `compute_metrics` para calcular métricas e o `data _collator` para preenchimento."
   ]
  },
  {
   "cell_type": "code",
   "execution_count": 24,
   "metadata": {},
   "outputs": [],
   "source": [
    "trainer = Trainer(\n",
    "    model=model,\n",
    "    args=training_args,\n",
    "    train_dataset=tokenized_dataset[\"train\"],\n",
    "    eval_dataset=tokenized_dataset[\"validation\"],\n",
    "    data_collator=data_collator,\n",
    "    tokenizer=tokenizer,\n",
    "    compute_metrics=compute_metrics\n",
    ")"
   ]
  },
  {
   "cell_type": "code",
   "execution_count": 27,
   "metadata": {},
   "outputs": [
    {
     "name": "stderr",
     "output_type": "stream",
     "text": [
      "***** Running training *****\n",
      "  Num examples = 20000\n",
      "  Num Epochs = 2\n",
      "  Instantaneous batch size per device = 16\n",
      "  Total train batch size (w. parallel, distributed & accumulation) = 16\n",
      "  Gradient Accumulation steps = 1\n",
      "  Total optimization steps = 2500\n",
      "  Number of trainable parameters = 66368263\n",
      " 20%|██        | 500/2500 [00:22<01:20, 24.87it/s]Saving model checkpoint to results/checkpoint-500\n",
      "Configuration saved in results/checkpoint-500/config.json\n",
      "Model weights saved in results/checkpoint-500/pytorch_model.bin\n",
      "tokenizer config file saved in results/checkpoint-500/tokenizer_config.json\n",
      "Special tokens file saved in results/checkpoint-500/special_tokens_map.json\n",
      " 40%|███▉      | 998/2500 [00:49<01:06, 22.64it/s]Saving model checkpoint to results/checkpoint-1000\n",
      "Configuration saved in results/checkpoint-1000/config.json\n",
      "Model weights saved in results/checkpoint-1000/pytorch_model.bin\n",
      "tokenizer config file saved in results/checkpoint-1000/tokenizer_config.json\n",
      "Special tokens file saved in results/checkpoint-1000/special_tokens_map.json\n",
      " 50%|█████     | 1250/2500 [01:07<00:53, 23.47it/s]***** Running Evaluation *****\n",
      "  Num examples = 10000\n",
      "  Batch size = 16\n"
     ]
    },
    {
     "name": "stdout",
     "output_type": "stream",
     "text": [
      "{'loss': 0.1372, 'learning_rate': 0.0, 'epoch': 1.0}\n"
     ]
    },
    {
     "name": "stderr",
     "output_type": "stream",
     "text": [
      "                                                   \n",
      " 50%|█████     | 1252/2500 [01:17<21:38,  1.04s/it]"
     ]
    },
    {
     "name": "stdout",
     "output_type": "stream",
     "text": [
      "{'eval_loss': 0.26377546787261963, 'eval_precision': 0.8216937097132696, 'eval_recall': 0.8338897410448435, 'eval_f1': 0.8277468036989768, 'eval_accuracy': 0.9230278368630352, 'eval_runtime': 9.9459, 'eval_samples_per_second': 1005.442, 'eval_steps_per_second': 62.84, 'epoch': 1.0}\n"
     ]
    },
    {
     "name": "stderr",
     "output_type": "stream",
     "text": [
      " 60%|█████▉    | 1498/2500 [01:28<00:40, 24.75it/s]Saving model checkpoint to results/checkpoint-1500\n",
      "Configuration saved in results/checkpoint-1500/config.json\n",
      "Model weights saved in results/checkpoint-1500/pytorch_model.bin\n",
      "tokenizer config file saved in results/checkpoint-1500/tokenizer_config.json\n",
      "Special tokens file saved in results/checkpoint-1500/special_tokens_map.json\n",
      " 80%|███████▉  | 1999/2500 [01:57<00:21, 22.99it/s]Saving model checkpoint to results/checkpoint-2000\n",
      "Configuration saved in results/checkpoint-2000/config.json\n",
      "Model weights saved in results/checkpoint-2000/pytorch_model.bin\n",
      "tokenizer config file saved in results/checkpoint-2000/tokenizer_config.json\n",
      "Special tokens file saved in results/checkpoint-2000/special_tokens_map.json\n",
      "100%|██████████| 2500/2500 [02:26<00:00, 24.26it/s]Saving model checkpoint to results/checkpoint-2500\n",
      "Configuration saved in results/checkpoint-2500/config.json\n"
     ]
    },
    {
     "name": "stdout",
     "output_type": "stream",
     "text": [
      "{'loss': 0.1371, 'learning_rate': 0.0, 'epoch': 2.0}\n"
     ]
    },
    {
     "name": "stderr",
     "output_type": "stream",
     "text": [
      "Model weights saved in results/checkpoint-2500/pytorch_model.bin\n",
      "tokenizer config file saved in results/checkpoint-2500/tokenizer_config.json\n",
      "Special tokens file saved in results/checkpoint-2500/special_tokens_map.json\n",
      "***** Running Evaluation *****\n",
      "  Num examples = 10000\n",
      "  Batch size = 16\n",
      "                                                   \n",
      "100%|██████████| 2500/2500 [02:43<00:00, 24.26it/s]\n",
      "\n",
      "Training completed. Do not forget to share your model on huggingface.co/models =)\n",
      "\n",
      "\n",
      "100%|██████████| 2500/2500 [02:43<00:00, 15.33it/s]"
     ]
    },
    {
     "name": "stdout",
     "output_type": "stream",
     "text": [
      "{'eval_loss': 0.26377546787261963, 'eval_precision': 0.8216937097132696, 'eval_recall': 0.8338897410448435, 'eval_f1': 0.8277468036989768, 'eval_accuracy': 0.9230278368630352, 'eval_runtime': 9.8321, 'eval_samples_per_second': 1017.079, 'eval_steps_per_second': 63.567, 'epoch': 2.0}\n",
      "{'train_runtime': 163.0462, 'train_samples_per_second': 245.329, 'train_steps_per_second': 15.333, 'train_loss': 0.13715767822265626, 'epoch': 2.0}\n"
     ]
    },
    {
     "name": "stderr",
     "output_type": "stream",
     "text": [
      "\n"
     ]
    },
    {
     "data": {
      "text/plain": [
       "TrainOutput(global_step=2500, training_loss=0.13715767822265626, metrics={'train_runtime': 163.0462, 'train_samples_per_second': 245.329, 'train_steps_per_second': 15.333, 'train_loss': 0.13715767822265626, 'epoch': 2.0})"
      ]
     },
     "execution_count": 27,
     "metadata": {},
     "output_type": "execute_result"
    }
   ],
   "source": [
    "#fine tune using train method\n",
    "trainer.train()"
   ]
  },
  {
   "attachments": {},
   "cell_type": "markdown",
   "metadata": {},
   "source": [
    "Depois que nosso modelo é treinado, podemos calcular as métricas (`precision`/`recall`/`f1` calculado para cada categoria) no resultado do conjunto `test` do método `predict`"
   ]
  },
  {
   "cell_type": "code",
   "execution_count": 28,
   "metadata": {},
   "outputs": [
    {
     "name": "stderr",
     "output_type": "stream",
     "text": [
      "***** Running Prediction *****\n",
      "  Num examples = 10000\n",
      "  Batch size = 16\n",
      "100%|██████████| 625/625 [00:10<00:00, 61.97it/s]\n"
     ]
    },
    {
     "data": {
      "text/plain": [
       "{'LOC': {'precision': 0.8466921815199563,\n",
       "  'recall': 0.8853190029727875,\n",
       "  'f1': 0.8655748700463921,\n",
       "  'number': 8746},\n",
       " 'ORG': {'precision': 0.7390180878552972,\n",
       "  'recall': 0.7260930888575459,\n",
       "  'f1': 0.7324985771200911,\n",
       "  'number': 7090},\n",
       " 'PER': {'precision': 0.8678599221789883,\n",
       "  'recall': 0.8920172772356423,\n",
       "  'f1': 0.8797727989902178,\n",
       "  'number': 6251},\n",
       " 'overall_precision': 0.8194444444444444,\n",
       " 'overall_recall': 0.8361026848372346,\n",
       " 'overall_f1': 0.8276897564036483,\n",
       " 'overall_accuracy': 0.9242309468822171}"
      ]
     },
     "execution_count": 28,
     "metadata": {},
     "output_type": "execute_result"
    }
   ],
   "source": [
    "predictions, labels, _ = trainer.predict(tokenized_dataset[\"test\"])\n",
    "predictions = np.argmax(predictions, axis=2)\n",
    "\n",
    "# Remove ignored index (special tokens)\n",
    "true_predictions = [\n",
    "[label_names[p] for (p, l) in zip(prediction, label) if l != -100]\n",
    "for prediction, label in zip(predictions, labels)\n",
    "]\n",
    "\n",
    "true_labels = [\n",
    "[label_names[l] for (p, l) in zip(prediction, label) if l != -100]\n",
    "for prediction, label in zip(predictions, labels)\n",
    "]\n",
    "\n",
    "\n",
    "results = metric.compute(predictions=true_predictions, references=true_labels)\n",
    "results"
   ]
  },
  {
   "attachments": {},
   "cell_type": "markdown",
   "metadata": {},
   "source": [
    "<font color=\"orange\">Observações:</font>\n",
    "\n",
    "* A `f1 score` para `LOC` e `PER` é `>85%` e `ORG` tem `<75%`\n",
    "\n",
    "* No geral `f1 score` é de `~83%`\n",
    "\n",
    "* Podemos melhorar a `accuracy` treinando o modelo `BERT` para um **número maior de epochs** ou ajustando outros parâmetros, como taxa de aprendizado (`Learning rate`), `batch size`, etc.\n",
    "\n",
    "\n",
    "<font color=\"yellow\">Você pode melhorar o desempenho no conjunto de dados ou experimentar um conjunto de dados de `idioma diferente`.</font>"
   ]
  },
  {
   "attachments": {},
   "cell_type": "markdown",
   "metadata": {},
   "source": [
    "<font color=\"orange\">Lembrar:</font>\n",
    "\n",
    "* O modelo `BERT` atinge accuracy de ponta (`state-of-the-art`) em várias tarefas em comparação com outras arquiteturas de RNN. No entanto, `eles exigem alto poder computacional` e levam muito tempo para treinar um modelo, portanto, o ajuste fino (`fine-tune`) é a melhor abordagem para superar os desafios\n",
    "\n",
    "* A biblioteca `HuggingFace Transformer` facilita o ajuste fino de qualquer tarefa de processamento de linguagem natural (`NLP`) de alto nível, e podemos até ajustar os modelos `pré-treinados` nos conjuntos de dados `personalizados` usando as etapas de pré-processamento necessárias e escolhendo os modelos necessários para a tarefa da biblioteca\n",
    "\n",
    "* Depois de treinar nosso modelo, é ainda mais fácil compartilhá-lo com a comunidade, carregando-o no `HuggingFace Hub`. Confira o [link a seguir](https://huggingface.co/docs/hub/models-uploading) para saber mais sobre isso."
   ]
  }
 ],
 "metadata": {
  "kernelspec": {
   "display_name": "venv_transformers",
   "language": "python",
   "name": "python3"
  },
  "language_info": {
   "codemirror_mode": {
    "name": "ipython",
    "version": 3
   },
   "file_extension": ".py",
   "mimetype": "text/x-python",
   "name": "python",
   "nbconvert_exporter": "python",
   "pygments_lexer": "ipython3",
   "version": "3.8.10"
  },
  "orig_nbformat": 4,
  "vscode": {
   "interpreter": {
    "hash": "ec5ade2d4360743ce487125b7239e83bccfe16b042610d7c6186531fdf4ec2c9"
   }
  }
 },
 "nbformat": 4,
 "nbformat_minor": 2
}
